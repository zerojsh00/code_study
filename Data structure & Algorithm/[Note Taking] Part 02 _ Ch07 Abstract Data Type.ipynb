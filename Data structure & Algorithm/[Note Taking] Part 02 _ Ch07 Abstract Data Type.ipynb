{
 "cells": [
  {
   "cell_type": "markdown",
   "metadata": {},
   "source": [
    "# \"파이썬 자료구조와 알고리즘\" 핵심 내용 정리"
   ]
  },
  {
   "cell_type": "markdown",
   "metadata": {},
   "source": [
    "---"
   ]
  },
  {
   "cell_type": "markdown",
   "metadata": {},
   "source": [
    "# Part 02 _ 알고리즘 세상 속으로"
   ]
  },
  {
   "cell_type": "markdown",
   "metadata": {},
   "source": [
    "---"
   ]
  },
  {
   "cell_type": "markdown",
   "metadata": {},
   "source": [
    "# Chapter 07 _ 추상 데이터 타입"
   ]
  },
  {
   "cell_type": "markdown",
   "metadata": {},
   "source": [
    "<b>NOTE 01 :</b> 자료 구조에서는 자료를 편리하고 확실하게 관리하기 위해서 새로운 자료형을 직접 정의해야만 한다. 이렇게 새 자료형을 추상적으로 정의한 것을 <b>추상 데이터 타입(abstract data type, ADT)</b>이라고 한다.\n",
    "\n",
    "<b>NOTE 02 :</b> <b>추상 데이터 타입(abstract data type, ADT)</b>은 유사한 동작을 가진 자료구조의 클래스에 대한 수학적 모델을 가리킨다. 많은 추상 데이터 타입은 각기 클래스는 다르지만, 기능적으로는 동일하게 구현된 자료구조를 가질 수 있다. 자료구조는 크게 배열 기반의 <b>연속</b>방식과 포인터 기반의 <b>연결</b>방식으로 분류한다."
   ]
  },
  {
   "cell_type": "markdown",
   "metadata": {},
   "source": [
    "## ■ 스택(stack)"
   ]
  },
  {
   "cell_type": "markdown",
   "metadata": {},
   "source": [
    "<b>NOTE :</b> <b>스택(stack)</b>은 배열의 끝에서만 데이터를 접근할 수 있는 선형 자료구조다. 스택은 배열 인덱스 접근이 제한되며, 후입선출(LIFO) 구조다. 책상 위에 쌓여 있는 책이나 싱크대에 쌓여 있는 접시를 연상하면 이해하기 쉽다. 스택의 동작은 아래와 같으며, 시간복잡도는 모두 O(1)이다.\n",
    "\n",
    "   * __push__ : 스택 맨 끝에 항목을 삽입한다.\n",
    "   * __pop__ : 스택 맨 끝 항목을 반환하는 동시에 제거한다.\n",
    "   * __top/peek__ : 스택 맨 끝 항목을 조회한다.\n",
    "   * __empty__ : 스택이 비어 있는지 확인한다.\n",
    "   * __size__ : 스택 크기를 확인한다.\n",
    "   \n",
    "파이썬에서는 __append()__와 __pop()__ 메서드로 구현할 수 있다.   "
   ]
  },
  {
   "cell_type": "code",
   "execution_count": 1,
   "metadata": {},
   "outputs": [
    {
     "name": "stdout",
     "output_type": "stream",
     "text": [
      "스택이 비어있나? True\n",
      "스택에 숫자 0~9를 추가함\n",
      "스택 크기 : 10\n",
      "peek : 9\n",
      "pop : 9\n",
      "peek : 8\n",
      "스택이 비어있나? False\n",
      "[0, 1, 2, 3, 4, 5, 6, 7, 8]\n"
     ]
    }
   ],
   "source": [
    "class Stack(object) :\n",
    "    def __init__(self) :\n",
    "        self.items = []\n",
    "    \n",
    "    def isEmpty(self) :\n",
    "        return not bool(self.items)\n",
    "    \n",
    "    def push(self, value) :\n",
    "        self.items.append(value)\n",
    "    \n",
    "    def pop(self) :\n",
    "        value = self.items.pop()\n",
    "        if value is not None :\n",
    "            return value\n",
    "        else :\n",
    "            print('Stack is empty.')\n",
    "            \n",
    "    def size(self) :\n",
    "        return len(self.items)\n",
    "    \n",
    "    def peek(self) :\n",
    "        if self.items :\n",
    "            return self.items[-1]\n",
    "        else :\n",
    "            print('Stack is empty.')\n",
    "            \n",
    "    def __repr__(self) :\n",
    "        return repr(self.items)\n",
    "    \n",
    "if __name__ == \"__main__\":\n",
    "    stack = Stack()\n",
    "    print(\"스택이 비어있나? {}\".format(stack.isEmpty()))\n",
    "    print(\"스택에 숫자 0~9를 추가함\")\n",
    "    for i in range(10) :\n",
    "        stack.push(i)\n",
    "    print(\"스택 크기 : {}\".format(stack.size()))\n",
    "    print(\"peek : {}\".format(stack.peek()))\n",
    "    print(\"pop : {}\".format(stack.pop()))\n",
    "    print(\"peek : {}\".format(stack.peek()))\n",
    "    print(\"스택이 비어있나? {}\".format(stack.isEmpty()))\n",
    "    print(stack)"
   ]
  },
  {
   "cell_type": "markdown",
   "metadata": {},
   "source": [
    "<b>NOTE : </b> 다음 코드에서는 노드(객체)의 컨테이너로 스택을 구현한다."
   ]
  },
  {
   "cell_type": "code",
   "execution_count": 2,
   "metadata": {
    "scrolled": true
   },
   "outputs": [
    {
     "name": "stdout",
     "output_type": "stream",
     "text": [
      "스택이 비어있나? True\n",
      "스택에 숫자 0~9를 추가함\n",
      "9 8 7 6 5 4 3 2 1 0 \n",
      "스택 크기 : 10\n",
      "peek : 9\n",
      "pop : 9\n",
      "peek : 8\n",
      "스택이 비어있나? False\n",
      "8 7 6 5 4 3 2 1 0 \n"
     ]
    }
   ],
   "source": [
    "class Node(object) :\n",
    "    def __init__(self, value=None, pointer=None) :\n",
    "        self.value = value\n",
    "        self.pointer = pointer\n",
    "        \n",
    "class Stack(object) :\n",
    "    def __init__(self) :\n",
    "        self.head = None\n",
    "        self.count = 0\n",
    "        \n",
    "    def isEmpty(self) :\n",
    "        return not bool(self.head)\n",
    "    \n",
    "    def push(self, item) :\n",
    "        self.head = Node(item, self.head)\n",
    "        self.count += 1\n",
    "        \n",
    "    def pop(self) :\n",
    "        if self.count > 0 and self.head :\n",
    "            node = self.head\n",
    "            self.head = node.pointer\n",
    "            self.count -= 1\n",
    "            return node.value\n",
    "        else :\n",
    "            print(\"Stack is empty.\")\n",
    "            \n",
    "    def peek(self) :\n",
    "        if self.count > 0 and self.head :\n",
    "            return self.head.value\n",
    "        else :\n",
    "            print(\"stack is empty.\")\n",
    "    \n",
    "    def size(self) :\n",
    "        return self.count\n",
    "    \n",
    "    def _printList(self) :\n",
    "        node = self.head\n",
    "        while node :\n",
    "            print(node.value, end=\" \")\n",
    "            node = node.pointer\n",
    "        print()\n",
    "        \n",
    "if __name__ == \"__main__\":\n",
    "    stack = Stack()\n",
    "    print(\"스택이 비어있나? {}\".format(stack.isEmpty()))\n",
    "    print(\"스택에 숫자 0~9를 추가함\")\n",
    "    for i in range(10) :\n",
    "        stack.push(i)\n",
    "    stack._printList()\n",
    "    print(\"스택 크기 : {}\".format(stack.size()))\n",
    "    print(\"peek : {}\".format(stack.peek()))\n",
    "    print(\"pop : {}\".format(stack.pop()))\n",
    "    print(\"peek : {}\".format(stack.peek()))\n",
    "    print(\"스택이 비어있나? {}\".format(stack.isEmpty()))\n",
    "    stack._printList()"
   ]
  },
  {
   "cell_type": "markdown",
   "metadata": {},
   "source": [
    "<b>NOTE : </b> 스택은 깊이 우선 탐색(DFS)에서 유용하게 사용된다."
   ]
  },
  {
   "cell_type": "markdown",
   "metadata": {},
   "source": [
    "## ■ 큐(queue)"
   ]
  },
  {
   "cell_type": "markdown",
   "metadata": {},
   "source": [
    "<b>NOTE :</b> <b>큐(queue)</b>는 스택과 다르게 항목이 들어온 순서대로 접근 가능하다. 즉, 먼저 들어온 데이터가 먼저 나가는 선입선출(FIFO) 구조다. 큐 역시 배열의 인덱스 접근이 제한된다. 롤러코스터 타는 것을 기다리는 사람들의 줄로 생각하면 쉽다. 큐의 동작은 아래와 같으며, 시간복잡도는 모두 O(1)이다. \n",
    "\n",
    "   * __enqueue__ : 큐 뒤쪽에 항목을 삽입한다.\n",
    "   * __dequeue__ : 큐 앞쪽의 항목을 반환하고, 제거한다.\n",
    "   * __peek/front__ : 큐 앞쪽의 항목을 조회한다.\n",
    "   * __empty__ : 큐가 비어 있는지 확인한다.\n",
    "   * __size__ : 큐의 크기를 확인한다."
   ]
  },
  {
   "cell_type": "code",
   "execution_count": 3,
   "metadata": {
    "scrolled": true
   },
   "outputs": [
    {
     "name": "stdout",
     "output_type": "stream",
     "text": [
      "큐가 비어있나? True\n",
      "큐에 숫자 0~9를 추가함\n",
      "큐 크기 : 10\n",
      "peek : 0\n",
      "pop : 0\n",
      "peek : 1\n",
      "큐가 비어있나? False\n"
     ]
    }
   ],
   "source": [
    "class Queue_01(object) :\n",
    "    def __init__(self) :\n",
    "        self.items = []\n",
    "    \n",
    "    def isEmpty(self) :\n",
    "        return not bool(self.items)\n",
    "    \n",
    "    def enqueue(self, item) :\n",
    "        self.items.insert(0, item)\n",
    "    \n",
    "    def dequeue(self) :\n",
    "        value = self.items.pop()\n",
    "        if value is not None:\n",
    "            return value\n",
    "        else :\n",
    "            print(\"Queue is empty.\")\n",
    "            \n",
    "    def size(self) :\n",
    "        return len(self.items)\n",
    "    \n",
    "    def peek(self) :\n",
    "        if self.items:\n",
    "            return self.items[-1]\n",
    "        else :\n",
    "            print(\"Queue is empty.\")\n",
    "            \n",
    "    def __repr__(self) :\n",
    "        return repr(self.items)\n",
    "    \n",
    "if __name__ == \"__main__\" :\n",
    "    queue = Queue_01()\n",
    "    print(\"큐가 비어있나? {}\".format(queue.isEmpty()))\n",
    "    print(\"큐에 숫자 0~9를 추가함\")\n",
    "    for i in range(10) :\n",
    "        queue.enqueue(i)\n",
    "    print(\"큐 크기 : {}\".format(queue.size()))\n",
    "    print(\"peek : {}\".format(queue.peek()))\n",
    "    print(\"pop : {}\".format(queue.dequeue()))\n",
    "    print(\"peek : {}\".format(queue.peek()))\n",
    "    print(\"큐가 비어있나? {}\".format(queue.isEmpty()))"
   ]
  },
  {
   "cell_type": "markdown",
   "metadata": {},
   "source": [
    "<b>NOTE : </b> 위 코드는 리스트의 insert() 메서드를 썼지만, 이는 모든 요소가 메모리에서 이동될 수 있으므로 비효율적이다.(O(n)). 두 개의 스택(두개의 리스트)을 사용하면 효율적인 큐를 작성할 수 있다."
   ]
  },
  {
   "cell_type": "code",
   "execution_count": 4,
   "metadata": {},
   "outputs": [
    {
     "name": "stdout",
     "output_type": "stream",
     "text": [
      "큐가 비어있나? True\n",
      "큐에 숫자 0~9를 추가함\n",
      "큐 크기 : 10\n",
      "peek : 0\n",
      "pop : 0\n",
      "peek : 1\n",
      "큐가 비어있나? False\n",
      "[9, 8, 7, 6, 5, 4, 3, 2, 1]\n"
     ]
    }
   ],
   "source": [
    "class Queue_02(object) :\n",
    "    def __init__(self) :\n",
    "        self.in_stack = []\n",
    "        self.out_stack = []\n",
    "    \n",
    "    def _transfer(self) :\n",
    "        while self.in_stack :\n",
    "            self.out_stack.append(self.in_stack.pop())\n",
    "    \n",
    "    def isEmpty(self) :\n",
    "        return not bool((self.in_stack) or bool(self.out_stack))\n",
    "    \n",
    "    def enqueue(self, item) :\n",
    "        self.in_stack.append(item)\n",
    "    \n",
    "    def dequeue(self) :\n",
    "        if not self.out_stack :\n",
    "            self._transfer()\n",
    "        if self.out_stack :\n",
    "            return self.out_stack.pop()\n",
    "        else :\n",
    "            print(\"Queue is empty.\")\n",
    "            \n",
    "    def size(self) :\n",
    "        return len(self.in_stack) + len(self.out_stack)\n",
    "    \n",
    "    def peek(self) :\n",
    "        if not self.out_stack :\n",
    "            self._transfer()\n",
    "        if self.out_stack :\n",
    "            return self.out_stack[-1]\n",
    "        else : \n",
    "            print(\"Queue is empty.\")\n",
    "            \n",
    "    def __repr__(self) :\n",
    "        if not self.out_stack :\n",
    "            self._transfer()\n",
    "        if self.out_stack :\n",
    "            return repr(self.out_stack)\n",
    "        else :\n",
    "            print(\"Queue is empty.\")\n",
    "    \n",
    "if __name__ == \"__main__\" :\n",
    "    queue = Queue_02()\n",
    "    print(\"큐가 비어있나? {}\".format(queue.isEmpty()))\n",
    "    print(\"큐에 숫자 0~9를 추가함\")\n",
    "    for i in range(10) :\n",
    "        queue.enqueue(i)\n",
    "    print(\"큐 크기 : {}\".format(queue.size()))\n",
    "    print(\"peek : {}\".format(queue.peek()))\n",
    "    print(\"pop : {}\".format(queue.dequeue()))\n",
    "    print(\"peek : {}\".format(queue.peek()))\n",
    "    print(\"큐가 비어있나? {}\".format(queue.isEmpty()))\n",
    "    print(queue)"
   ]
  },
  {
   "cell_type": "markdown",
   "metadata": {},
   "source": [
    "<b>NOTE : </b> 큐는 너비 우선 탐색(BFS)에서 유용하게 사용된다."
   ]
  },
  {
   "cell_type": "markdown",
   "metadata": {},
   "source": [
    "## ■ 데크(deque)"
   ]
  },
  {
   "cell_type": "markdown",
   "metadata": {},
   "source": [
    "<b>NOTE :</b> <b>데크(deque)</b>는 스택과 큐의 결합체로 볼 수 있다. 양쪽 끝에서 항목의 조회, 삽입, 삭제가 가능하다. 앞서 구현한 큐를 바탕으로 다음과 같이 구현할 수 있다. "
   ]
  },
  {
   "cell_type": "code",
   "execution_count": 5,
   "metadata": {},
   "outputs": [],
   "source": [
    "class Deque(Queue_01):\n",
    "    def enqueue_back(self, item) :\n",
    "        self.append(item)\n",
    "        \n",
    "    def dequeue_front(self) :\n",
    "        value = self.items.pop(0)\n",
    "        if value is not None :\n",
    "            return value\n",
    "        else :\n",
    "            print(\"Deque is empty.\")"
   ]
  },
  {
   "cell_type": "markdown",
   "metadata": {},
   "source": [
    "<b>NOTE :</b> 이 코드 역시 끝이 아닌 다른 위치에 있는 항목을 삽입하거나 제거할 때는 비효율적이다. 파이썬에서 제공하는 __collections 패키지의 deque 모듈__을 사용하면 이 문제가 해결된다."
   ]
  },
  {
   "cell_type": "code",
   "execution_count": 6,
   "metadata": {},
   "outputs": [
    {
     "data": {
      "text/plain": [
       "deque(['버피', '잰더', '윌로'])"
      ]
     },
     "execution_count": 6,
     "metadata": {},
     "output_type": "execute_result"
    }
   ],
   "source": [
    "from collections import deque\n",
    "\n",
    "q = deque([\"버피\", \"잰더\", \"윌로\"])\n",
    "q"
   ]
  },
  {
   "cell_type": "code",
   "execution_count": 7,
   "metadata": {},
   "outputs": [
    {
     "data": {
      "text/plain": [
       "deque(['버피', '잰더', '윌로', '자일스'])"
      ]
     },
     "execution_count": 7,
     "metadata": {},
     "output_type": "execute_result"
    }
   ],
   "source": [
    "q.append(\"자일스\")\n",
    "q"
   ]
  },
  {
   "cell_type": "code",
   "execution_count": 8,
   "metadata": {},
   "outputs": [
    {
     "data": {
      "text/plain": [
       "'버피'"
      ]
     },
     "execution_count": 8,
     "metadata": {},
     "output_type": "execute_result"
    }
   ],
   "source": [
    "q.popleft()"
   ]
  },
  {
   "cell_type": "code",
   "execution_count": 9,
   "metadata": {},
   "outputs": [
    {
     "data": {
      "text/plain": [
       "'자일스'"
      ]
     },
     "execution_count": 9,
     "metadata": {},
     "output_type": "execute_result"
    }
   ],
   "source": [
    "q.pop()"
   ]
  },
  {
   "cell_type": "code",
   "execution_count": 10,
   "metadata": {},
   "outputs": [
    {
     "data": {
      "text/plain": [
       "deque(['잰더', '윌로'])"
      ]
     },
     "execution_count": 10,
     "metadata": {},
     "output_type": "execute_result"
    }
   ],
   "source": [
    "q"
   ]
  },
  {
   "cell_type": "code",
   "execution_count": 11,
   "metadata": {},
   "outputs": [
    {
     "data": {
      "text/plain": [
       "deque(['엔젤', '잰더', '윌로'])"
      ]
     },
     "execution_count": 11,
     "metadata": {},
     "output_type": "execute_result"
    }
   ],
   "source": [
    "q.appendleft('엔젤')\n",
    "q"
   ]
  },
  {
   "cell_type": "markdown",
   "metadata": {},
   "source": [
    "<b>NOTE :</b> <b>deque</b> 모듈을 사용하면 <b>q = deque(maxlen=4)</b> 같은 식으로 데크의 크기를 지정할 수 있다. 또한 <b>rotate(n)</b> 메서드는 n이 양수이면 오른쪽으로, n이 음수이면 왼쪽으로 n만큼 시프트시킨다."
   ]
  },
  {
   "cell_type": "code",
   "execution_count": 12,
   "metadata": {},
   "outputs": [
    {
     "data": {
      "text/plain": [
       "deque(['윌로', '엔젤', '잰더'])"
      ]
     },
     "execution_count": 12,
     "metadata": {},
     "output_type": "execute_result"
    }
   ],
   "source": [
    "q.rotate(1)\n",
    "q"
   ]
  },
  {
   "cell_type": "code",
   "execution_count": 13,
   "metadata": {},
   "outputs": [
    {
     "data": {
      "text/plain": [
       "deque(['엔젤', '잰더', '윌로'])"
      ]
     },
     "execution_count": 13,
     "metadata": {},
     "output_type": "execute_result"
    }
   ],
   "source": [
    "q.rotate(2)\n",
    "q"
   ]
  },
  {
   "cell_type": "code",
   "execution_count": 14,
   "metadata": {},
   "outputs": [
    {
     "data": {
      "text/plain": [
       "deque(['잰더', '윌로', '엔젤'])"
      ]
     },
     "execution_count": 14,
     "metadata": {},
     "output_type": "execute_result"
    }
   ],
   "source": [
    "q.rotate(-1)\n",
    "q"
   ]
  },
  {
   "cell_type": "markdown",
   "metadata": {},
   "source": [
    "## ■ 우선순위 큐와 힙"
   ]
  },
  {
   "cell_type": "markdown",
   "metadata": {},
   "source": [
    "<b>NOTE :</b> <b>우선순위 큐(priority queue)</b>는 일반 스택과 큐와 비슷한 추상 데이터 타입이지만, 각 항목마다 연관된 우선순위가 있다. 두 항목의 우선순위가 같으면 큐의 순서를 따른다. 우선순위 큐는 힙을 사용하여 구현한다."
   ]
  },
  {
   "cell_type": "markdown",
   "metadata": {},
   "source": [
    "### 힙(heap)"
   ]
  },
  {
   "cell_type": "markdown",
   "metadata": {},
   "source": [
    "<b>NOTE (wikipedia) :</b> <b>힙(heap)</b>은 최댓값 및 최솟값을 찾아내는 연산을 빠르게 하기 위해 고안된 완전이진트리(complete binary tree)를 기본으로 한 자료구조(tree-based structure)로서 다음과 같은 힙 속성(property)을 만족한다.\n",
    "\n",
    "   - A가 B의 부모노드(parent node) 이면, A의 키(key)값과 B의 키값 사이에는 대소관계가 성립한다.\n",
    "\n",
    "힙에는 두가지 종류가 있으며, 부모노드의 키값이 자식노드의 키값보다 항상 큰 힙을 '최대 힙', 부모노드의 키값이 자식노드의 키값보다 항상 작은 힙을 '최소 힙'이라고 부른다.\n",
    "\n",
    "키값의 대소관계는 오로지 부모노드와 자식노드 간에만 성립하며, 특히 형제 사이에는 대소관계가 정해지지 않는다.\n",
    "\n",
    "각 노드의 자식노드의 최대개수는 힙의 종류에 따라 다르지만, 대부분의 경우는 자식노드의 개수가 최대 2개인 이진 힙(binary heap)을 사용한다.\n",
    "\n",
    "힙에서는 가장 높은(혹은 가장 낮은) 우선순위를 가지는 노드가 항상 뿌리노드에 오게 되는 특징이 있으며, 이를 응용하면 우선순위 큐와 같은 추상적 자료형을 구현할 수 있다."
   ]
  },
  {
   "cell_type": "markdown",
   "metadata": {},
   "source": [
    "<b>NOTE :</b> <b>힙(heap)</b>은 각 노드가 하위 노드보다 작은(또는 큰) 이진 트리다. 균형 트리의 모양이 수정될 때, 다시 이를 균형 트리로 만드는 시간복잡도는 O(log n)이다. 힙은 일반적으로, 리스트에서 가장 작은(또는 가장 큰) 요소에 반복적으로 접근하는 프로그램에 유용하다. 최소(또는 최대) 힙을 사용하면 가장 작은(또는 가장 큰) 요소를 처리하는 시간복잡도는 O(1)이고, 그 외의 조회, 추가, 수정을 처리하는 시간복잡도는 O(log n)이다."
   ]
  },
  {
   "cell_type": "markdown",
   "metadata": {},
   "source": [
    "### heapq 모듈"
   ]
  },
  {
   "cell_type": "code",
   "execution_count": 15,
   "metadata": {},
   "outputs": [
    {
     "data": {
      "text/plain": [
       "[1, 4, 8, 6]"
      ]
     },
     "execution_count": 15,
     "metadata": {},
     "output_type": "execute_result"
    }
   ],
   "source": [
    "import heapq\n",
    "list1 = [4, 6, 8, 1]\n",
    "heapq.heapify(list1)\n",
    "list1"
   ]
  },
  {
   "cell_type": "markdown",
   "metadata": {},
   "source": [
    "<b>NOTE :</b> <b>heapq 모듈</b>은 효율적으로 시퀀스를 힙으로 유지하면서 항목을 삽입하고 제거하는 함수를 제공한다. 다음과 같이 __heapq.heapify()__ 함수를 사용하면 O(n) 시간에 리스트를 힙으로 변환할 수 있다."
   ]
  },
  {
   "cell_type": "code",
   "execution_count": 16,
   "metadata": {
    "scrolled": true
   },
   "outputs": [
    {
     "data": {
      "text/plain": [
       "[(1, 'food'), (2, 'have fun'), (3, 'work'), (4, 'study')]"
      ]
     },
     "execution_count": 16,
     "metadata": {},
     "output_type": "execute_result"
    }
   ],
   "source": [
    "h = []\n",
    "heapq.heappush(h, (1, 'food'))\n",
    "heapq.heappush(h, (2, 'have fun'))\n",
    "heapq.heappush(h, (3, 'work'))\n",
    "heapq.heappush(h, (4, 'study'))\n",
    "h"
   ]
  },
  {
   "cell_type": "markdown",
   "metadata": {},
   "source": [
    "<b>NOTE :</b> 항목을 삽입할 때는 <b>heapq.heappush(heap, item)</b>을 사용한다."
   ]
  },
  {
   "cell_type": "code",
   "execution_count": 17,
   "metadata": {},
   "outputs": [
    {
     "name": "stdout",
     "output_type": "stream",
     "text": [
      "[1, 4, 8, 6]\n"
     ]
    },
    {
     "data": {
      "text/plain": [
       "1"
      ]
     },
     "execution_count": 17,
     "metadata": {},
     "output_type": "execute_result"
    }
   ],
   "source": [
    "print(list1)\n",
    "heapq.heappop(list1)"
   ]
  },
  {
   "cell_type": "code",
   "execution_count": 18,
   "metadata": {
    "scrolled": true
   },
   "outputs": [
    {
     "data": {
      "text/plain": [
       "[4, 6, 8]"
      ]
     },
     "execution_count": 18,
     "metadata": {},
     "output_type": "execute_result"
    }
   ],
   "source": [
    "list1"
   ]
  },
  {
   "cell_type": "markdown",
   "metadata": {},
   "source": [
    "<b>NOTE :</b>\n",
    "   - <b>heapq.heappop(heap)</b> : 힙에서 가장 작은 항목을 제거하고 반환한다.\n",
    "   - <b>heapq.heappushpop(heap, item)</b> : 새 항목을 힙에 추가한 후(push), 가장 작은 항목을 제거하고 반환한다.\n",
    "   - <b>heapq.heapreplace(heap, item)</b> : 힙의 가장 작은 항목을 제거하고 반환한 후(pop), 새 항목을 추가한다(push).\n",
    "\n",
    "__heappush()__와 __heappop()__ 메서드를 따로 사용하는 것보다 한 번에 __heappushpop()__ 혹은 __heapreplace()__ 메서드를 사용하는 것이 더 효율적이다."
   ]
  },
  {
   "cell_type": "markdown",
   "metadata": {},
   "source": [
    "### 최대 힙 구현하기 : heapify() 함수의 구현"
   ]
  },
  {
   "cell_type": "code",
   "execution_count": 19,
   "metadata": {},
   "outputs": [
    {
     "name": "stdout",
     "output_type": "stream",
     "text": [
      "테스트 통과\n"
     ]
    }
   ],
   "source": [
    "class Heapify(object) :\n",
    "    def __init__(self, data=None) :\n",
    "        self.data = data or []\n",
    "        for i in range(len(data)//2, -1, -1) :\n",
    "            self.__max_heapify__(i)\n",
    "            \n",
    "    def __repr__(self) :\n",
    "        return repr(self.data)\n",
    "    \n",
    "    def parent(self, i) :\n",
    "        if i & 1 :\n",
    "            return i >> 1\n",
    "        else :\n",
    "            return (i >> 1) -1\n",
    "        \n",
    "    def left_child(self, i) :\n",
    "        return (i << 1) + 1 # 비트 연산, 곱하기 2 더하기 1\n",
    "    \n",
    "    def right_child(self, i) :\n",
    "        return (i << 1) + 2 # 비트연산, 곱하기 2 더하기 2\n",
    "    \n",
    "    def __max_heapify__(self, i) :\n",
    "        largest = i # 현재 노드\n",
    "        left = self.left_child(i)\n",
    "        right = self.right_child(i)\n",
    "        n = len(self.data)\n",
    "        \n",
    "        # 왼쪽 자식\n",
    "        largest = (left < n and self.data[left] > self.data[i]) and left or i\n",
    "        \n",
    "        # 오른쪽 자식\n",
    "        largest = (right < n and self.data[right] > self.data[largest]) and right or largest\n",
    "        \n",
    "        # 현재 노드가 자식들보다 크다면 Skip, 자식이 크다면 Swap\n",
    "        if i is not largest :\n",
    "            self.data[i], self.data[largest] = self.data[largest], self.data[i]\n",
    "        \n",
    "#         self.__max_heapify__(largest)\n",
    "        \n",
    "    def extract_max(self) :\n",
    "        n = len(self.data)\n",
    "        max_element = self.data[0]\n",
    "        \n",
    "        # 첫 번째 노드에 마지막 노드를 삽입\n",
    "        self.data[0] = self.data[n - 1]\n",
    "        self.data = self.data[: n - 1]\n",
    "        self.__max_heapify__(0)\n",
    "        return max_element\n",
    "    \n",
    "    def insert(self, item) :\n",
    "        i = len(self.data)\n",
    "        self.data.append(item)\n",
    "        while (i != 0) and item > self.data[self.parent(i)] :\n",
    "            print(self.data)\n",
    "            self.data[i] = self.data[self.parent(i)]\n",
    "            i = self.parent(i)\n",
    "        self.data[i] = item\n",
    "    \n",
    "\n",
    "def test_heapify() :\n",
    "    l1 = [3, 2, 5, 1, 7, 8, 2]\n",
    "    h = Heapify(l1)\n",
    "    assert(h.extract_max() == 8)\n",
    "    print(\"테스트 통과\")\n",
    "\n",
    "if __name__ == \"__main__\" :\n",
    "    test_heapify()"
   ]
  },
  {
   "cell_type": "markdown",
   "metadata": {},
   "source": [
    "### 우선순위 큐 구현하기"
   ]
  },
  {
   "cell_type": "code",
   "execution_count": 20,
   "metadata": {},
   "outputs": [
    {
     "name": "stdout",
     "output_type": "stream",
     "text": [
      "테스트 통과\n"
     ]
    }
   ],
   "source": [
    "import heapq\n",
    "\n",
    "class PriorityQueue(object) :\n",
    "    def __init__(self) :\n",
    "        self._queue = []\n",
    "        self._index = 0\n",
    "    \n",
    "    def push(self, item, priority):\n",
    "        heapq.heappush(self._queue, (-priority, self._index, item))\n",
    "        self._index += 1\n",
    "    \n",
    "    def pop(self) :\n",
    "        return heapq.heappop(self._queue)[-1]\n",
    "    \n",
    "class Item :\n",
    "    def __init__(self, name) :\n",
    "        self.name = name\n",
    "        \n",
    "    def __repr__(self) :\n",
    "        return \"Item({0!r})\".format(self.name)\n",
    "    \n",
    "def test_priority_queue() :\n",
    "    q = PriorityQueue()\n",
    "    q.push(Item('test1'), 1)\n",
    "    q.push(Item('test2'), 4)\n",
    "    q.push(Item('test3'), 3)\n",
    "    assert(str(q.pop()) == \"Item('test2')\")\n",
    "    print(\"테스트 통과\")\n",
    "\n",
    "if __name__ == \"__main__\" :\n",
    "    test_priority_queue()"
   ]
  },
  {
   "cell_type": "markdown",
   "metadata": {},
   "source": [
    "## ■ 연결 리스트 (Linked List)"
   ]
  },
  {
   "cell_type": "markdown",
   "metadata": {},
   "source": [
    "<b>NOTE (wikipedia) :</b> <b>연결 리스트(linked list)</b>는 각 노드가 데이터와 포인터를 가지고 한 줄로 연결되어 있는 방식으로 데이터를 저장하는 자료 구조이다. 이름에서 말하듯이 데이터를 담고 있는 노드들이 연결되어 있는데, 노드의 포인터가 다음이나 이전의 노드와의 연결을 담당하게 된다.\n",
    "\n",
    "연결 리스트의 종류로는 단일 연결 리스트, 이중 연결 리스트 등이 있다.\n",
    "\n",
    "연결 리스트는 늘어선 노드의 중간지점에서도 자료의 추가와 삭제가 O(1)의 시간에 가능하다는 장점을 갖는다. 그러나 배열이나 트리 구조와는 달리 특정 위치의 데이터를 검색해 내는데에는 O(n)의 시간이 걸리는 단점도 갖고 있다.\n",
    "\n",
    "<b>NOTE :</b> <b>연결 리스트(linked list)</b>는 값과 다음 노드에 대한 포인터(참조)가 포함된 노드로 이루어진 선형 리스트다. 마지막 노드는 null값(파이썬에서는 None)을 갖는다. 또한, 연결 리스트로 스택(새 항목을 헤드에 추가)과 큐(새 항목을 테일에 추가)를 구현할 수 있다. "
   ]
  },
  {
   "cell_type": "code",
   "execution_count": 21,
   "metadata": {},
   "outputs": [
    {
     "name": "stdout",
     "output_type": "stream",
     "text": [
      "a\n",
      "b\n",
      "aa\n",
      "e\n"
     ]
    }
   ],
   "source": [
    "class Node(object) :\n",
    "    def __init__(self, value=None, pointer=None) :\n",
    "        self.value = value\n",
    "        self.pointer = pointer\n",
    "\n",
    "    def getData(self) :\n",
    "        return self.value\n",
    "    \n",
    "    def getNext(self) :\n",
    "        return self.pointer\n",
    "    \n",
    "    def setData(self, newdata) :\n",
    "        self.value = newdata\n",
    "        \n",
    "    def setNext(self, newpointer) :\n",
    "        self.pointer = newpointer\n",
    "        \n",
    "if __name__ == \"__main__\" :\n",
    "    L = Node(\"a\", Node(\"b\", Node(\"c\", Node(\"d\"))))\n",
    "    assert(L.pointer.pointer.value ==\"c\")\n",
    "    \n",
    "    print(L.getData())\n",
    "    print(L.getNext().getData())\n",
    "    L.setData(\"aa\")\n",
    "    L.setNext(Node(\"e\"))\n",
    "    print(L.getData())\n",
    "    print(L.getNext().getData())"
   ]
  },
  {
   "cell_type": "markdown",
   "metadata": {},
   "source": [
    "### 후입선출(LIFO) 연결 리스트"
   ]
  },
  {
   "cell_type": "code",
   "execution_count": 22,
   "metadata": {
    "scrolled": true
   },
   "outputs": [
    {
     "name": "stdout",
     "output_type": "stream",
     "text": [
      "연결 리스트 출력 : \n",
      "4 3 2 1 \n",
      "인덱스가 2인 노드 삭제 후, 연결 리스트 출력 :\n",
      "4 3 1 \n",
      "값이 3인 노드 삭제 후, 연결 리스트 출력 :\n",
      "4 1 \n",
      "값이 15인 노드 추가 후, 연결 리스트 출력 :\n",
      "15 4 1 \n",
      "모든 노드 모두 삭제 후, 연결 리스트 출력 :\n",
      "\n"
     ]
    }
   ],
   "source": [
    "class LinkedListLIFO(object) :\n",
    "    def __init__(self) :\n",
    "        self.head = None\n",
    "        self.length = 0\n",
    "    \n",
    "    # 헤드부터 각 노드의 값을 출력한다.\n",
    "    def _printList(self) :\n",
    "        node = self.head\n",
    "        while node :\n",
    "            print(node.value, end =' ')\n",
    "            node = node.pointer\n",
    "        print()\n",
    "    \n",
    "    # 이전 노드(prev)를 기반으로 노드(node)를 삭제한다.\n",
    "    def _delete(self, prev, node) :\n",
    "        self.length -= 1\n",
    "        if not prev :\n",
    "            self.head = node.pointer\n",
    "        else :\n",
    "            prev.pointer = node.pointer\n",
    "            \n",
    "    # 새 노드를 추가한다. 다음 노드로 헤드를 가리키고, 헤드는 새 노드를 가리킨다.\n",
    "    def _add(self, value) :\n",
    "        self.length += 1\n",
    "        self.head = Node(value, self.head)\n",
    "        \n",
    "    # 인덱스로 노드를 찾는다.\n",
    "    def _find(self, index) :\n",
    "        prev = None\n",
    "        node = self.head\n",
    "        i = 0\n",
    "        while node and i < index :\n",
    "            prev = node\n",
    "            node = node.pointer\n",
    "            i += 1\n",
    "        return node, prev, i\n",
    "    \n",
    "    # 값으로 노드를 찾는다.\n",
    "    def _find_by_value(self, value) :\n",
    "        prev = None\n",
    "        node = self.head\n",
    "        found = False\n",
    "        while node and not found :\n",
    "            if node.value == value :\n",
    "                found = True\n",
    "            else :\n",
    "                prev = node\n",
    "                node = node.pointer\n",
    "        return node, prev, found\n",
    "    \n",
    "    # 인덱스에 해당하는 노드를 찾아서 삭제한다.\n",
    "    def deleteNode(self, index) :\n",
    "        node, prev, i = self._find(index)\n",
    "        if index == i :\n",
    "            self._delete(prev, node)\n",
    "        else :\n",
    "            print(f\"인덱스 {index}에 해당하는 노드가 없습니다.\")\n",
    "                  \n",
    "    # 값에 해당하는 노드를 찾아서 삭제한다.\n",
    "    def deleteNodeByValue(self, value) :\n",
    "        node, prev, found = self._find_by_value(value)\n",
    "        if found :\n",
    "            self._delete(prev, node)\n",
    "        else :\n",
    "            print(f\"값 {value}에 해당하는 노드가 없습니다.\")\n",
    "            \n",
    "if __name__ == \"__main__\" :\n",
    "    ll = LinkedListLIFO()\n",
    "    for i in range(1, 5) :\n",
    "        ll._add(i)\n",
    "    print(\"연결 리스트 출력 : \")\n",
    "    ll._printList()\n",
    "    print(\"인덱스가 2인 노드 삭제 후, 연결 리스트 출력 :\")\n",
    "    ll.deleteNode(2)\n",
    "    ll._printList()\n",
    "    print(\"값이 3인 노드 삭제 후, 연결 리스트 출력 :\")\n",
    "    ll.deleteNodeByValue(3)\n",
    "    ll._printList()\n",
    "    print(\"값이 15인 노드 추가 후, 연결 리스트 출력 :\")\n",
    "    ll._add(15)\n",
    "    ll._printList()\n",
    "    print(\"모든 노드 모두 삭제 후, 연결 리스트 출력 :\")\n",
    "    for i in range(ll.length-1, -1, -1) :\n",
    "        ll.deleteNode(i)\n",
    "    ll._printList()"
   ]
  },
  {
   "cell_type": "markdown",
   "metadata": {},
   "source": [
    "### 선입선출(FIFO) 연결 리스트"
   ]
  },
  {
   "cell_type": "code",
   "execution_count": 23,
   "metadata": {},
   "outputs": [
    {
     "name": "stdout",
     "output_type": "stream",
     "text": [
      "연결 리스트 출력 : \n",
      "1 2 3 4 \n",
      "인덱스가 2인 노드 삭제 후, 연결 리스트 출력 :\n",
      "1 2 4 \n",
      "값이 3인 노드 삭제 후, 연결 리스트 출력 :\n",
      "값 3에 해당하는 노드가 없습니다.\n",
      "1 2 4 \n",
      "값이 15인 노드 추가 후, 연결 리스트 출력 :\n",
      "1 2 4 15 \n",
      "모든 노드 모두 삭제 후, 연결 리스트 출력 :\n",
      "연결 리스트가 비었습니다.\n",
      "\n"
     ]
    }
   ],
   "source": [
    "class LinkedListFIFO(object) :\n",
    "    def __init__(self) :\n",
    "        self.head = None \n",
    "        self.length = 0\n",
    "        self.tail = None\n",
    "    \n",
    "    # 헤드부터 각 노드의 값을 출력한다.\n",
    "    def _printList(self):\n",
    "        node = self.head\n",
    "        while node :\n",
    "            print(node.value, end = \" \")\n",
    "            node = node.pointer\n",
    "        print()\n",
    "        \n",
    "    # 첫 번째 위치에 노드를 추가한다.\n",
    "    def _addFirst(self, value) :\n",
    "        self.length = 1\n",
    "        node = Node(value)\n",
    "        self.head = node\n",
    "        self.tail = node\n",
    "        \n",
    "    # 첫 번째 위치의 노드를 삭제한다.\n",
    "    def _deleteFirst(self) :\n",
    "        self.length = 0\n",
    "        self.head = None\n",
    "        self.tail = None\n",
    "        print(\"연결 리스트가 비었습니다.\")\n",
    "        \n",
    "    # 새 노드를 추가한다. 테일이 있다면, 테일의 다음 노드는 새 노드를 가리키고, 테일은 새 노드를 가리킨다.\n",
    "    def _add(self, value) :\n",
    "        self.length += 1\n",
    "        node = Node(value)\n",
    "        if self.tail :\n",
    "            self.tail.pointer = node\n",
    "        self.tail = node\n",
    "        \n",
    "    # 새 노드를 추가한다.\n",
    "    def addNode(self, value) :\n",
    "        if not self.head :\n",
    "            self._addFirst(value)\n",
    "        else :\n",
    "            self._add(value)\n",
    "        \n",
    "    # 인덱스로 노드를 찾는다.\n",
    "    def _find(self, index) :\n",
    "        prev = None\n",
    "        node = self.head\n",
    "        i = 0\n",
    "        while node and i < index :\n",
    "            prev = node\n",
    "            node = node.pointer\n",
    "            i += 1\n",
    "        return node, prev, i\n",
    "    \n",
    "    # 값으로 노드를 찾는다.\n",
    "    def _find_by_value(self, value) :\n",
    "        prev = None\n",
    "        node = self.head\n",
    "        found = False\n",
    "        while node and not found :\n",
    "            if node.value == value :\n",
    "                found = True\n",
    "            else :\n",
    "                prev = node\n",
    "                node = node.pointer\n",
    "        return node, prev, found\n",
    "    \n",
    "    # 인덱스에 해당하는 노드를 삭제한다.\n",
    "    def deleteNode(self, index) :\n",
    "        if not self.head or not self.head.pointer:\n",
    "            self._deleteFirst()\n",
    "        else :\n",
    "            node, prev, i = self._find(index)\n",
    "            if i == index and node :\n",
    "                self.length -= 1\n",
    "                if i == 0 or not prev :\n",
    "                    self.head = node.pointer\n",
    "                    self.tail = node.pointer\n",
    "                else :\n",
    "                    prev.pointer = node.pointer\n",
    "            else :\n",
    "                print(\"인덱스 {}에 해당하는 노드가 없습니다.\".format(index))\n",
    "                \n",
    "    # 값에 해당하는 노드를 삭제한다.\n",
    "    def deleteNodeByValue(self, value) :\n",
    "        if not self.head or not self.head.pointer :\n",
    "            self._deleteFirst()\n",
    "        else :\n",
    "            node, prev, i = self._find_by_value(value)\n",
    "            if node and node.value == value : \n",
    "                self.length -= 1\n",
    "                if i == 0 or not prev :\n",
    "                    self.head = node.pointer\n",
    "                    self.tail = node.pointer\n",
    "                else :\n",
    "                    prev.pointer = node.pointer\n",
    "            else :\n",
    "                print(\"값 {}에 해당하는 노드가 없습니다.\".format(value))\n",
    "\n",
    "if __name__ == \"__main__\" :\n",
    "    ll = LinkedListFIFO()\n",
    "    for i in range(1, 5) :\n",
    "        ll.addNode(i)\n",
    "    print(\"연결 리스트 출력 : \")\n",
    "    ll._printList()\n",
    "    print(\"인덱스가 2인 노드 삭제 후, 연결 리스트 출력 :\")\n",
    "    ll.deleteNode(2)\n",
    "    ll._printList()\n",
    "    print(\"값이 3인 노드 삭제 후, 연결 리스트 출력 :\")\n",
    "    ll.deleteNodeByValue(3)\n",
    "    ll._printList()\n",
    "    print(\"값이 15인 노드 추가 후, 연결 리스트 출력 :\")\n",
    "    ll._add(15)\n",
    "    ll._printList()\n",
    "    print(\"모든 노드 모두 삭제 후, 연결 리스트 출력 :\")\n",
    "    for i in range(ll.length-1, -1, -1) :\n",
    "        ll.deleteNode(i)\n",
    "    ll._printList()"
   ]
  },
  {
   "cell_type": "markdown",
   "metadata": {},
   "source": [
    "## ■ 해시 테이블 (Hash Table)"
   ]
  },
  {
   "cell_type": "markdown",
   "metadata": {},
   "source": [
    "<b>NOTE :</b> <b>해시테이블(hash table)</b>은 키를 값에 연결하여, 하나의 키가 0 또는 1개의 값과 연관된다. 각 키는 해시함수를 계산할 수 있어야 한다. 해시테이블은 해시 버킷(hash bucket)의 배열로 구성된다. 예를 들어 해시 값이 42이고 5개의 버킷이 있는 경우 나머지 연산(mod)을 사용하여, 버킷 2(42 mod 5)에 매핑한다.\n",
    "\n",
    "두 개의 키가 동일한 버킷에 해시될 때, 문제가 발생한다. 이를 <b>해시 충돌</b>이라고 한다. 이를 처리하는 한 가지 방법은, <u>각 버킷에 대해 키-값 쌍의 연결 리스트를 저장</u>하는 것이다.\n",
    "\n",
    "해시 테이블의 조회, 삽입, 삭제의 시간복잡도는 O(1)이다. 최악의 경우 각 키가 동일한 버킷으로 해시되면(해시 충돌이 발생한다면), 각 작업의 시간복잡도는 O(n)이다. 간단하게 해시 테이블을 구현하는 코드는 아래와 같다."
   ]
  },
  {
   "cell_type": "code",
   "execution_count": 24,
   "metadata": {},
   "outputs": [
    {
     "name": "stdout",
     "output_type": "stream",
     "text": [
      "슬롯(slot) 0:\n",
      "0 3 6 9 12 15 18 \n",
      "슬롯(slot) 1:\n",
      "1 4 7 10 13 16 19 \n",
      "슬롯(slot) 2:\n",
      "2 5 8 11 14 17 \n",
      "\n",
      "항목 0,1,2를 삭제합니다.\n",
      "슬롯(slot) 0:\n",
      "3 6 9 12 15 18 \n",
      "슬롯(slot) 1:\n",
      "4 7 10 13 16 19 \n",
      "슬롯(slot) 2:\n",
      "5 8 11 14 17 \n"
     ]
    }
   ],
   "source": [
    "class HashTableLL(object) :\n",
    "    def __init__(self, size) :\n",
    "        self.size = size\n",
    "        self.slots = []\n",
    "        self._createHashTable()\n",
    "        \n",
    "    def _createHashTable(self) :\n",
    "        for i in range(self.size) :\n",
    "            self.slots.append(LinkedListFIFO())\n",
    "            \n",
    "    def _find(self, item) :\n",
    "        return item % self.size\n",
    "    \n",
    "    def _add(self, item) :\n",
    "        index = self._find(item)\n",
    "        self.slots[index].addNode(item)\n",
    "    \n",
    "    def _delete(self, item) :\n",
    "        index = self._find(item)\n",
    "        self.slots[index].deleteNodeByValue(item)\n",
    "        \n",
    "    def _print(self) :\n",
    "        for i in range(self.size) :\n",
    "            print(\"슬롯(slot) {}:\".format(i))\n",
    "            self.slots[i]._printList()\n",
    "            \n",
    "def test_hash_tables() :\n",
    "    H1 = HashTableLL(3)\n",
    "    for i in range(0, 20) :\n",
    "        H1._add(i)\n",
    "    H1._print()\n",
    "    print(\"\\n항목 0,1,2를 삭제합니다.\")\n",
    "    H1._delete(0)\n",
    "    H1._delete(1)\n",
    "    H1._delete(2)\n",
    "    H1._print()\n",
    "\n",
    "if __name__ == \"__main__\" :\n",
    "    test_hash_tables()"
   ]
  }
 ],
 "metadata": {
  "kernelspec": {
   "display_name": "Python 3",
   "language": "python",
   "name": "python3"
  },
  "language_info": {
   "codemirror_mode": {
    "name": "ipython",
    "version": 3
   },
   "file_extension": ".py",
   "mimetype": "text/x-python",
   "name": "python",
   "nbconvert_exporter": "python",
   "pygments_lexer": "ipython3",
   "version": "3.6.8"
  }
 },
 "nbformat": 4,
 "nbformat_minor": 2
}
