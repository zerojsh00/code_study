{
 "cells": [
  {
   "cell_type": "markdown",
   "metadata": {},
   "source": [
    "# \"파이썬 자료구조와 알고리즘\" 핵심 내용 정리"
   ]
  },
  {
   "cell_type": "markdown",
   "metadata": {},
   "source": [
    "---"
   ]
  },
  {
   "cell_type": "markdown",
   "metadata": {},
   "source": [
    "# Part 01 _ 헬로, 자료구조 !"
   ]
  },
  {
   "cell_type": "markdown",
   "metadata": {},
   "source": [
    "---"
   ]
  },
  {
   "cell_type": "markdown",
   "metadata": {},
   "source": [
    "# Chapter 01 _ 숫자"
   ]
  },
  {
   "cell_type": "markdown",
   "metadata": {},
   "source": [
    "## ■ 정수"
   ]
  },
  {
   "cell_type": "code",
   "execution_count": 1,
   "metadata": {
    "scrolled": true
   },
   "outputs": [
    {
     "data": {
      "text/plain": [
       "3"
      ]
     },
     "execution_count": 1,
     "metadata": {},
     "output_type": "execute_result"
    }
   ],
   "source": [
    "s = '11'\n",
    "int(s, 2)"
   ]
  },
  {
   "cell_type": "code",
   "execution_count": 2,
   "metadata": {
    "scrolled": true
   },
   "outputs": [
    {
     "data": {
      "text/plain": [
       "13"
      ]
     },
     "execution_count": 2,
     "metadata": {},
     "output_type": "execute_result"
    }
   ],
   "source": [
    "int('1101', 2)"
   ]
  },
  {
   "cell_type": "markdown",
   "metadata": {},
   "source": [
    "<b>NOTE :</b> int 메서드의 밑을 2로 하는 경우, 2진법으로 표현된 숫자로 인식하며 10진법으로 변환한다. 문자열에서 밑 범위의 숫자를 벗어나는 값을 입력하면 ValueError가 발생한다."
   ]
  },
  {
   "cell_type": "code",
   "execution_count": 3,
   "metadata": {},
   "outputs": [
    {
     "data": {
      "text/plain": [
       "'0b1110'"
      ]
     },
     "execution_count": 3,
     "metadata": {},
     "output_type": "execute_result"
    }
   ],
   "source": [
    "bin(14)"
   ]
  },
  {
   "cell_type": "code",
   "execution_count": 4,
   "metadata": {},
   "outputs": [
    {
     "data": {
      "text/plain": [
       "'00001110'"
      ]
     },
     "execution_count": 4,
     "metadata": {},
     "output_type": "execute_result"
    }
   ],
   "source": [
    "\"{0:08b}\".format(14)"
   ]
  },
  {
   "cell_type": "markdown",
   "metadata": {},
   "source": [
    "<b>NOTE :</b> 정수를 이진수 꼴로 표현하려면 bin 메서드를 사용한다. 혹은 문자열 포맷팅 기능으로 위와 같이 표현할 수 있다."
   ]
  },
  {
   "cell_type": "markdown",
   "metadata": {},
   "source": [
    "## ■ 부동소수점"
   ]
  },
  {
   "cell_type": "markdown",
   "metadata": {},
   "source": [
    "<b>NOTE :</b> IEEE 754는 전기 전자 기술자 협회(IEEE)에서 개발한, 컴퓨터에서 부동소수점을 표현하는 가장 널리 쓰이는 표준이다. 파이썬에서 부동소수점은 float로 나타내며 불변형이다. 단정도(single precision)방식에서 32비트 부동소수점을 나타낼 때 1비트는 부호(1:양수, 0:음수), 23비트는 유효숫자 자릿수(significant digits, 혹은 가수(mantissa)), 8비트는 지수(exponent)다."
   ]
  },
  {
   "cell_type": "code",
   "execution_count": 5,
   "metadata": {},
   "outputs": [
    {
     "name": "stdout",
     "output_type": "stream",
     "text": [
      "0.6000000000000001\n",
      "False\n"
     ]
    }
   ],
   "source": [
    "print(0.2 * 3)\n",
    "print(0.2 * 3 == 0.6)"
   ]
  },
  {
   "cell_type": "code",
   "execution_count": 6,
   "metadata": {},
   "outputs": [
    {
     "name": "stdout",
     "output_type": "stream",
     "text": [
      "1.0\n",
      "True\n"
     ]
    }
   ],
   "source": [
    "print(1.2 - 0.2)\n",
    "print(1.2 - 0.2 == 1.0)"
   ]
  },
  {
   "cell_type": "code",
   "execution_count": 7,
   "metadata": {},
   "outputs": [
    {
     "name": "stdout",
     "output_type": "stream",
     "text": [
      "1.0999999999999999\n",
      "False\n"
     ]
    }
   ],
   "source": [
    "print(1.2 - 0.1)\n",
    "print(1.2 - 0.1 == 1.1)"
   ]
  },
  {
   "cell_type": "code",
   "execution_count": 8,
   "metadata": {},
   "outputs": [
    {
     "name": "stdout",
     "output_type": "stream",
     "text": [
      "0.010000000000000002\n",
      "False\n"
     ]
    }
   ],
   "source": [
    "print(0.1 * 0.1)\n",
    "print(0.1 * 0.1 == 0.01)"
   ]
  },
  {
   "cell_type": "markdown",
   "metadata": {},
   "source": [
    "<b>NOTE :</b> 부동소수점은 이진수 분수(binary fraction)로 표현되기 때문에 함부로 비교하거나 빼면 안 된다. 2진수는 대개 10진법으로 정확하게 표현할 수 있지만, 2진법으로는 표현하기 어려운 숫자도 있다."
   ]
  },
  {
   "cell_type": "code",
   "execution_count": 9,
   "metadata": {},
   "outputs": [
    {
     "data": {
      "text/plain": [
       "2.3333333333333335"
      ]
     },
     "execution_count": 9,
     "metadata": {},
     "output_type": "execute_result"
    }
   ],
   "source": [
    "7 / 3 # 부동소수점 반환"
   ]
  },
  {
   "cell_type": "code",
   "execution_count": 10,
   "metadata": {},
   "outputs": [
    {
     "data": {
      "text/plain": [
       "2"
      ]
     },
     "execution_count": 10,
     "metadata": {},
     "output_type": "execute_result"
    }
   ],
   "source": [
    "7 // 3 # 몫 반환"
   ]
  },
  {
   "cell_type": "code",
   "execution_count": 11,
   "metadata": {},
   "outputs": [
    {
     "data": {
      "text/plain": [
       "1"
      ]
     },
     "execution_count": 11,
     "metadata": {},
     "output_type": "execute_result"
    }
   ],
   "source": [
    "7 % 3 # 나머지 반환"
   ]
  },
  {
   "cell_type": "code",
   "execution_count": 12,
   "metadata": {},
   "outputs": [
    {
     "data": {
      "text/plain": [
       "(2, 1)"
      ]
     },
     "execution_count": 12,
     "metadata": {},
     "output_type": "execute_result"
    }
   ],
   "source": [
    "divmod(7, 3) # 몫과 나머지 반환"
   ]
  },
  {
   "cell_type": "markdown",
   "metadata": {},
   "source": [
    "##  ■ 복소수, fraction 모듈, decimal 모듈"
   ]
  },
  {
   "cell_type": "markdown",
   "metadata": {},
   "source": [
    "생략"
   ]
  },
  {
   "cell_type": "markdown",
   "metadata": {},
   "source": [
    "## ■  2진수, 8진수, 16진수"
   ]
  },
  {
   "cell_type": "code",
   "execution_count": 13,
   "metadata": {},
   "outputs": [
    {
     "data": {
      "text/plain": [
       "'0b1111100111'"
      ]
     },
     "execution_count": 13,
     "metadata": {},
     "output_type": "execute_result"
    }
   ],
   "source": [
    "bin(999)"
   ]
  },
  {
   "cell_type": "markdown",
   "metadata": {},
   "source": [
    "<b>NOTE :</b> bin(i) 메서드는 정수 i의 2진수 문자열을 반환한다."
   ]
  },
  {
   "cell_type": "code",
   "execution_count": 14,
   "metadata": {},
   "outputs": [
    {
     "data": {
      "text/plain": [
       "'0o1747'"
      ]
     },
     "execution_count": 14,
     "metadata": {},
     "output_type": "execute_result"
    }
   ],
   "source": [
    "oct(999)"
   ]
  },
  {
   "cell_type": "markdown",
   "metadata": {},
   "source": [
    "<b>NOTE :</b> oct(i) 메서드는 정수 i의 8진수 문자열을 반환한다."
   ]
  },
  {
   "cell_type": "code",
   "execution_count": 15,
   "metadata": {},
   "outputs": [
    {
     "data": {
      "text/plain": [
       "'0x3e7'"
      ]
     },
     "execution_count": 15,
     "metadata": {},
     "output_type": "execute_result"
    }
   ],
   "source": [
    "hex(999)"
   ]
  },
  {
   "cell_type": "markdown",
   "metadata": {},
   "source": [
    "<b>NOTE :</b> hex(i) 메서드는 정수 i의 16진수 문자열을 반환한다."
   ]
  },
  {
   "cell_type": "markdown",
   "metadata": {},
   "source": [
    "## [참고] 가정 설정문 (assert)"
   ]
  },
  {
   "cell_type": "markdown",
   "metadata": {},
   "source": [
    "<b>NOTE :</b> assert는 뒤의 조건이 True가 아니면 AssertError를 발생한다."
   ]
  },
  {
   "cell_type": "code",
   "execution_count": 16,
   "metadata": {},
   "outputs": [],
   "source": [
    "a = 2"
   ]
  },
  {
   "cell_type": "code",
   "execution_count": 17,
   "metadata": {},
   "outputs": [
    {
     "ename": "AssertionError",
     "evalue": "",
     "output_type": "error",
     "traceback": [
      "\u001b[1;31m---------------------------------------------------------------------------\u001b[0m",
      "\u001b[1;31mAssertionError\u001b[0m                            Traceback (most recent call last)",
      "\u001b[1;32m<ipython-input-17-f380e66fd070>\u001b[0m in \u001b[0;36m<module>\u001b[1;34m\u001b[0m\n\u001b[1;32m----> 1\u001b[1;33m \u001b[1;32massert\u001b[0m \u001b[0ma\u001b[0m \u001b[1;33m==\u001b[0m \u001b[1;36m3\u001b[0m\u001b[1;33m\u001b[0m\u001b[1;33m\u001b[0m\u001b[0m\n\u001b[0m",
      "\u001b[1;31mAssertionError\u001b[0m: "
     ]
    }
   ],
   "source": [
    "assert a == 3"
   ]
  },
  {
   "cell_type": "markdown",
   "metadata": {},
   "source": [
    "<b>NOTE :</b> 왜 assert가 필요한 것일까?\n",
    "\n",
    "어떤 함수는 성능을 높이기 위해 반드시 정수만을 입력받아 처리하도록 만들 수 있다. 이런 함수를 만들기 위해서는 반드시 함수에 정수만 들어오는지 확인할 필요가 있다. 이를 위해 if문을 사용할 수도 있고 '예외 처리'를 사용할 수도 있지만 '가정 설정문'을 사용하는 방법도 있다."
   ]
  },
  {
   "cell_type": "code",
   "execution_count": 19,
   "metadata": {},
   "outputs": [
    {
     "ename": "AssertionError",
     "evalue": "정수 아닌 값이 있네",
     "output_type": "error",
     "traceback": [
      "\u001b[1;31m---------------------------------------------------------------------------\u001b[0m",
      "\u001b[1;31mAssertionError\u001b[0m                            Traceback (most recent call last)",
      "\u001b[1;32m<ipython-input-19-3c2f9a0bb92e>\u001b[0m in \u001b[0;36m<module>\u001b[1;34m\u001b[0m\n\u001b[0;32m      5\u001b[0m \u001b[1;33m\u001b[0m\u001b[0m\n\u001b[0;32m      6\u001b[0m \u001b[1;32mfor\u001b[0m \u001b[0mi\u001b[0m \u001b[1;32min\u001b[0m \u001b[0mlists\u001b[0m\u001b[1;33m:\u001b[0m\u001b[1;33m\u001b[0m\u001b[1;33m\u001b[0m\u001b[0m\n\u001b[1;32m----> 7\u001b[1;33m     \u001b[0mtest\u001b[0m\u001b[1;33m(\u001b[0m\u001b[0mi\u001b[0m\u001b[1;33m)\u001b[0m\u001b[1;33m\u001b[0m\u001b[1;33m\u001b[0m\u001b[0m\n\u001b[0m",
      "\u001b[1;32m<ipython-input-19-3c2f9a0bb92e>\u001b[0m in \u001b[0;36mtest\u001b[1;34m(t)\u001b[0m\n\u001b[0;32m      2\u001b[0m \u001b[1;33m\u001b[0m\u001b[0m\n\u001b[0;32m      3\u001b[0m \u001b[1;32mdef\u001b[0m \u001b[0mtest\u001b[0m\u001b[1;33m(\u001b[0m\u001b[0mt\u001b[0m\u001b[1;33m)\u001b[0m\u001b[1;33m:\u001b[0m\u001b[1;33m\u001b[0m\u001b[1;33m\u001b[0m\u001b[0m\n\u001b[1;32m----> 4\u001b[1;33m     \u001b[1;32massert\u001b[0m \u001b[0mtype\u001b[0m\u001b[1;33m(\u001b[0m\u001b[0mt\u001b[0m\u001b[1;33m)\u001b[0m \u001b[1;32mis\u001b[0m \u001b[0mint\u001b[0m\u001b[1;33m,\u001b[0m \u001b[1;34m'정수 아닌 값이 있네'\u001b[0m\u001b[1;33m\u001b[0m\u001b[1;33m\u001b[0m\u001b[0m\n\u001b[0m\u001b[0;32m      5\u001b[0m \u001b[1;33m\u001b[0m\u001b[0m\n\u001b[0;32m      6\u001b[0m \u001b[1;32mfor\u001b[0m \u001b[0mi\u001b[0m \u001b[1;32min\u001b[0m \u001b[0mlists\u001b[0m\u001b[1;33m:\u001b[0m\u001b[1;33m\u001b[0m\u001b[1;33m\u001b[0m\u001b[0m\n",
      "\u001b[1;31mAssertionError\u001b[0m: 정수 아닌 값이 있네"
     ]
    }
   ],
   "source": [
    "lists = [1, 3, 6, 3, 8, 7, 13, 23, 13, 2, 3.14, 2, 3, 7]\n",
    "\n",
    "def test(t):\n",
    "    assert type(t) is int, '정수 아닌 값이 있네'\n",
    "\n",
    "for i in lists:\n",
    "    test(i)"
   ]
  },
  {
   "cell_type": "markdown",
   "metadata": {},
   "source": [
    "<b>NOTE :</b> lists에 실수가 하나 있으므로 AssertionError가 발생했다. assert 문은 다음 형식으로 작동한다.\n",
    "\n",
    "<i>assert 조건, '메시지'</i>\n",
    "\n",
    "'메시지'는 생략할 수 있다.\n",
    "\n",
    "assert는 개발자가 프로그램을 만드는 과정에 관여한다. 원하는 조건의 변수 값을 보증받을 때까지 assert로 테스트 할 수 있다. 이는 단순히 에러를 찾는것이 아니라 값을 보증하기 위해 사용된다.\n",
    "\n",
    "예를 들어 함수의 입력 값이 어떤 조건의 참임을 보증하기 위해 사용할 수 있고 함수의 반환 값이 어떤 조건에 만족하도록 만들 수 있다. 혹은 변수 값이 변하는 과정에서 특정 부분은 반드시 어떤 영역에 속하는 것을 보증하기 위해 가정 설정문을 통해 확인 할 수도 있다.\n",
    "\n",
    "이처럼 실수를 가정해 값을 보증하는 방식으로 코딩 하기 때문에 이를 '방어적 프로그래밍'이라 부른다."
   ]
  },
  {
   "cell_type": "markdown",
   "metadata": {},
   "source": [
    "## ■  피보나치 수열"
   ]
  },
  {
   "cell_type": "code",
   "execution_count": 20,
   "metadata": {},
   "outputs": [
    {
     "name": "stdout",
     "output_type": "stream",
     "text": [
      "1 1 2 3 5 8 13 21 34 55 "
     ]
    }
   ],
   "source": [
    "def fib_generator() :\n",
    "    a, b = 0, 1\n",
    "    while True:\n",
    "        yield b\n",
    "        a,  b = b, a + b\n",
    "\n",
    "fg = fib_generator()\n",
    "for _ in range(10) :\n",
    "    print(next(fg), end= \" \")"
   ]
  },
  {
   "cell_type": "markdown",
   "metadata": {},
   "source": [
    "## [참고] 제너레이터 (generator)"
   ]
  },
  {
   "cell_type": "markdown",
   "metadata": {},
   "source": [
    "<b>NOTE :</b>  generator란 iterator를 생성해주는 함수로, 함수안에 yield 키워드를 사용한다.\n",
    "\n",
    "genrator 특징\n",
    "- iterable한 순서가 지정됨(모든 generator는 iterator)\n",
    "- 느슨하게 평가된다.(순서의 다음 값은 필요에 따라 계산됨)\n",
    "- 함수의 내부 로컬 변수를 통해 내부상태가 유지된다.\n",
    "- 무한한 순서가 있는 객체를 모델링할 수 있다.(명확한 끝이 없는 데이터 스트림)\n",
    "- 자연스러운 스트림 처리를 위 파이프라인으로 구성할수 있다."
   ]
  },
  {
   "cell_type": "code",
   "execution_count": 21,
   "metadata": {},
   "outputs": [],
   "source": [
    "fg = fib_generator()"
   ]
  },
  {
   "cell_type": "code",
   "execution_count": 22,
   "metadata": {},
   "outputs": [
    {
     "data": {
      "text/plain": [
       "1"
      ]
     },
     "execution_count": 22,
     "metadata": {},
     "output_type": "execute_result"
    }
   ],
   "source": [
    "next(fg)"
   ]
  },
  {
   "cell_type": "code",
   "execution_count": 23,
   "metadata": {},
   "outputs": [
    {
     "data": {
      "text/plain": [
       "1"
      ]
     },
     "execution_count": 23,
     "metadata": {},
     "output_type": "execute_result"
    }
   ],
   "source": [
    "next(fg)"
   ]
  },
  {
   "cell_type": "code",
   "execution_count": 24,
   "metadata": {},
   "outputs": [
    {
     "data": {
      "text/plain": [
       "2"
      ]
     },
     "execution_count": 24,
     "metadata": {},
     "output_type": "execute_result"
    }
   ],
   "source": [
    "next(fg)"
   ]
  },
  {
   "cell_type": "code",
   "execution_count": 25,
   "metadata": {},
   "outputs": [
    {
     "data": {
      "text/plain": [
       "3"
      ]
     },
     "execution_count": 25,
     "metadata": {},
     "output_type": "execute_result"
    }
   ],
   "source": [
    "next(fg)"
   ]
  },
  {
   "cell_type": "code",
   "execution_count": 26,
   "metadata": {},
   "outputs": [
    {
     "data": {
      "text/plain": [
       "5"
      ]
     },
     "execution_count": 26,
     "metadata": {},
     "output_type": "execute_result"
    }
   ],
   "source": [
    "next(fg)"
   ]
  },
  {
   "cell_type": "code",
   "execution_count": 27,
   "metadata": {},
   "outputs": [
    {
     "data": {
      "text/plain": [
       "8"
      ]
     },
     "execution_count": 27,
     "metadata": {},
     "output_type": "execute_result"
    }
   ],
   "source": [
    "next(fg)"
   ]
  },
  {
   "cell_type": "markdown",
   "metadata": {},
   "source": [
    "---"
   ]
  },
  {
   "cell_type": "markdown",
   "metadata": {},
   "source": [
    "# Chapter 02 _ 내장 시퀀스 타입"
   ]
  },
  {
   "cell_type": "markdown",
   "metadata": {},
   "source": [
    "## ■ 깊은 복사와 슬라이싱 연산"
   ]
  },
  {
   "cell_type": "markdown",
   "metadata": {},
   "source": [
    "<b>NOTE :</b> 파이썬에서 튜플, 문자열, 바이트는 불변(immutable) 객체 타입이며, 리스트와 바이트는 가변(mutable) 객체 타입이다. 일반적으로 불변 객체 타입은 가변 객체 타입보다 효율적이다."
   ]
  },
  {
   "cell_type": "markdown",
   "metadata": {},
   "source": [
    "<b>NOTE :</b> 파이썬의 모든 변수는 객체 참조(reference)이므로 가변 객체를 복사할 때는 매우 주의해야 한다. a = b라고 할 때, a는 실제 b가 가리키는(참조하는) 곳을 가리킨다. 따라서 <b>깊은 복사(deep copy)</b>의 개념을 이해해야 한다."
   ]
  },
  {
   "cell_type": "code",
   "execution_count": 28,
   "metadata": {},
   "outputs": [
    {
     "name": "stdout",
     "output_type": "stream",
     "text": [
      "1928022094984\n",
      "1928021361288\n"
     ]
    }
   ],
   "source": [
    "# 리스트의 깊은 복사 : 추가 객체를 생성\n",
    "\n",
    "myList = [1, 2, 3, 4]\n",
    "newList = myList[:]\n",
    "print(id(myList))\n",
    "print(id(newList))"
   ]
  },
  {
   "cell_type": "code",
   "execution_count": 29,
   "metadata": {},
   "outputs": [
    {
     "name": "stdout",
     "output_type": "stream",
     "text": [
      "1928022094984\n",
      "1928022094984\n"
     ]
    }
   ],
   "source": [
    "# 얕은 복사 : 같은 객체, 원본과 동일한 필드를 참조함\n",
    "\n",
    "newList2 = myList\n",
    "print(id(myList))\n",
    "print(id(newList2))"
   ]
  },
  {
   "cell_type": "code",
   "execution_count": 30,
   "metadata": {},
   "outputs": [
    {
     "name": "stdout",
     "output_type": "stream",
     "text": [
      "{'버피'}\n",
      "{'자일스', '에인절', '버피'}\n"
     ]
    }
   ],
   "source": [
    "# 셋의 깊은 복사 : 추가 객체를 생성\n",
    "\n",
    "people = {\"버피\", \"에인절\", \"자일스\"}\n",
    "slayers = people.copy()\n",
    "slayers.discard(\"자일스\")\n",
    "slayers.remove(\"에인절\")\n",
    "print(slayers)\n",
    "print(people)"
   ]
  },
  {
   "cell_type": "markdown",
   "metadata": {},
   "source": [
    "슬라이싱 연산자 정리 생략"
   ]
  },
  {
   "cell_type": "markdown",
   "metadata": {},
   "source": [
    "## ■ 문자열"
   ]
  },
  {
   "cell_type": "markdown",
   "metadata": {},
   "source": [
    "<b>NOTE :</b> <b>유니코드</b>는 세계 언어의 몬자를 정의하기 위한 국제 표준 코드다. 유니코드는 공백, 특수문자, 수학 및 기타 분야의 기호들도 포함하고 있다. 파이썬 3부터 모든 문자열은 일반적인 바이트가 아닌 유니코드다. 문자열 앞에 u를 붙이면 유니코드 문자열을 만들 수 있다."
   ]
  },
  {
   "cell_type": "code",
   "execution_count": 31,
   "metadata": {},
   "outputs": [
    {
     "data": {
      "text/plain": [
       "'잘가 세상'"
      ]
     },
     "execution_count": 31,
     "metadata": {},
     "output_type": "execute_result"
    }
   ],
   "source": [
    "u\"잘가\\u0020세상\""
   ]
  },
  {
   "cell_type": "markdown",
   "metadata": {},
   "source": [
    "<b>NOTE :</b> 위 예제에서, escape sequence는 서수 값이 0x0020인 유니코드 문자를 나타낸다. 일반적인 아스키 코드의 표현은 7비트(아스키 코드를 확장한 ANSI 코드는 8비트)이고, 유니코드 표현에는 16비트가 필요하다."
   ]
  },
  {
   "cell_type": "code",
   "execution_count": 32,
   "metadata": {},
   "outputs": [
    {
     "data": {
      "text/plain": [
       "'스칼렛-----------------------------------------------'"
      ]
     },
     "execution_count": 32,
     "metadata": {},
     "output_type": "execute_result"
    }
   ],
   "source": [
    "name = \"스칼렛\"\n",
    "name.ljust(50, '-')"
   ]
  },
  {
   "cell_type": "code",
   "execution_count": 33,
   "metadata": {},
   "outputs": [
    {
     "data": {
      "text/plain": [
       "'-----------------------------------------------스칼렛'"
      ]
     },
     "execution_count": 33,
     "metadata": {},
     "output_type": "execute_result"
    }
   ],
   "source": [
    "name.rjust(50, '-')"
   ]
  },
  {
   "cell_type": "code",
   "execution_count": 34,
   "metadata": {},
   "outputs": [
    {
     "name": "stdout",
     "output_type": "stream",
     "text": [
      "2017-01-27 00:00:00\n",
      "January 27, 2017\n"
     ]
    }
   ],
   "source": [
    "from datetime import datetime\n",
    "\n",
    "today = datetime(year=2017, month=1, day=27)\n",
    "print(f\"{today}\")\n",
    "print(f\"{today:%B %d, %Y}\") # 날짜 포맷 지정"
   ]
  },
  {
   "cell_type": "markdown",
   "metadata": {},
   "source": [
    "<b>NOTE :</b> <b>f-string</b>은 기존의 %나 .format 방식에 비해 간결하고 직관적이며 속도도 빠르다."
   ]
  },
  {
   "cell_type": "markdown",
   "metadata": {},
   "source": [
    "## ■ 튜플 "
   ]
  },
  {
   "cell_type": "code",
   "execution_count": 35,
   "metadata": {},
   "outputs": [
    {
     "name": "stdout",
     "output_type": "stream",
     "text": [
      "Person(name='Simon', age=30, gender='남자')\n",
      "Simon\n",
      "Simon\n"
     ]
    }
   ],
   "source": [
    "import collections\n",
    "\n",
    "Person = collections.namedtuple('Person', 'name age gender')\n",
    "# Person = collections.namedtuple('Person', ['name', 'age', 'gender'])\n",
    "# Person = collections.namedtuple('Person', ('name', 'age', 'gender'))\n",
    "p = Person('Simon', 30, '남자')\n",
    "\n",
    "print(p)\n",
    "print(p[0])\n",
    "print(p.name)"
   ]
  },
  {
   "cell_type": "markdown",
   "metadata": {},
   "source": [
    "<b>NOTE :</b> 파이썬 표준 모듈 collections에는 <b>named tuple</b>이라는 시퀀스 데이터 타입이 있다. 네임드 튜플은 일반 튜플과 비슷한 성능과 특성을 갖지만, 튜플 항목을 인덱스 위치뿐만아니라 이름으로도 참조할 수 있다.\n",
    "\n",
    "<b>collections.namedtuple</b> 메서드의 첫 번째 인수는 만들고자 하는 사용자 정의 튜플 데이터 타입의 이름이다(보통 왼쪽에 할당하는 변수의 이름과 똑같이 사용한다). 두 번째 인수는 사용자 정의 튜플 각 항목을 지정하는 '공백으로 구분된 문자열(리스트 또는 튜플로 지정해도 된다)'이다."
   ]
  },
  {
   "cell_type": "markdown",
   "metadata": {},
   "source": [
    "## ■ 리스트"
   ]
  },
  {
   "cell_type": "code",
   "execution_count": 36,
   "metadata": {},
   "outputs": [
    {
     "data": {
      "text/plain": [
       "[1900, 1904, 1908, 1912, 1916, 1920, 1924, 1928, 1932, 1936]"
      ]
     },
     "execution_count": 36,
     "metadata": {},
     "output_type": "execute_result"
    }
   ],
   "source": [
    "# 조건문을 활용한 list comprehension\n",
    "[y for y in range(1900, 1940) if y % 4 ==0]"
   ]
  },
  {
   "cell_type": "code",
   "execution_count": 37,
   "metadata": {},
   "outputs": [
    {
     "data": {
      "text/plain": [
       "[1, 2, 4, 8, 16, 32, 64, 128, 256, 512, 1024, 2048, 4096]"
      ]
     },
     "execution_count": 37,
     "metadata": {},
     "output_type": "execute_result"
    }
   ],
   "source": [
    "# 표현식을 활용한 list comprehension\n",
    "[2**i for i in range(13)]"
   ]
  },
  {
   "cell_type": "code",
   "execution_count": 38,
   "metadata": {},
   "outputs": [
    {
     "name": "stdout",
     "output_type": "stream",
     "text": [
      "['BUFFY', 'buffy', 5]\n",
      "['IS', 'is', 2]\n",
      "['AWESOME', 'awesome', 7]\n",
      "['AND', 'and', 3]\n",
      "['A', 'a', 1]\n",
      "['VAMPIRE', 'vampire', 7]\n",
      "['SLAYER', 'slayer', 6]\n"
     ]
    }
   ],
   "source": [
    "words = 'Buffy is awesome and a vampire slayer'.split()\n",
    "\n",
    "e = [[w.upper(), w.lower(), len(w)] for w in words]\n",
    "for i in e :\n",
    "    print(i)"
   ]
  },
  {
   "cell_type": "markdown",
   "metadata": {},
   "source": [
    "## ■ 바이트와 바이트 배열"
   ]
  },
  {
   "cell_type": "markdown",
   "metadata": {},
   "source": [
    "<b>NOTE :</b> 파이썬은 원시 바이트(raw byte)를 처리하는 데 사용할 수 있는 데이터 타입으로 불변 타입의 바이트(byte)와 가변 타입의 바이트 배열(bytearray)을 제공한다. 두 타입 모두 0~255 범위의 부호 없는 8비트 정수 시퀀스로 이루어진다. 바이트 타입은 문자열 타입과 유사하며, 바이트 배열 타입은 리스트 타입과 유사하다."
   ]
  },
  {
   "cell_type": "code",
   "execution_count": 39,
   "metadata": {},
   "outputs": [
    {
     "name": "stdout",
     "output_type": "stream",
     "text": [
      "b'\\x01\\x02\\x03\\xff'\n",
      "bytearray(b'\\x01\\x02\\x03\\xff')\n"
     ]
    }
   ],
   "source": [
    "blist = [1, 2, 3, 255]\n",
    "\n",
    "the_bytes = bytes(blist)\n",
    "print(the_bytes)\n",
    "\n",
    "the_byte_array = bytearray(blist)\n",
    "print(the_byte_array)"
   ]
  },
  {
   "cell_type": "code",
   "execution_count": 40,
   "metadata": {},
   "outputs": [
    {
     "ename": "TypeError",
     "evalue": "'bytes' object does not support item assignment",
     "output_type": "error",
     "traceback": [
      "\u001b[1;31m---------------------------------------------------------------------------\u001b[0m",
      "\u001b[1;31mTypeError\u001b[0m                                 Traceback (most recent call last)",
      "\u001b[1;32m<ipython-input-40-8ee5b6413f2d>\u001b[0m in \u001b[0;36m<module>\u001b[1;34m\u001b[0m\n\u001b[0;32m      1\u001b[0m \u001b[1;31m# byte 타입은 immutable\u001b[0m\u001b[1;33m\u001b[0m\u001b[1;33m\u001b[0m\u001b[1;33m\u001b[0m\u001b[0m\n\u001b[1;32m----> 2\u001b[1;33m \u001b[0mthe_bytes\u001b[0m\u001b[1;33m[\u001b[0m\u001b[1;36m1\u001b[0m\u001b[1;33m]\u001b[0m \u001b[1;33m=\u001b[0m \u001b[1;36m123\u001b[0m\u001b[1;33m\u001b[0m\u001b[1;33m\u001b[0m\u001b[0m\n\u001b[0m",
      "\u001b[1;31mTypeError\u001b[0m: 'bytes' object does not support item assignment"
     ]
    }
   ],
   "source": [
    "# byte 타입은 immutable\n",
    "the_bytes[1] = 123"
   ]
  },
  {
   "cell_type": "code",
   "execution_count": 41,
   "metadata": {},
   "outputs": [
    {
     "data": {
      "text/plain": [
       "bytearray(b'\\x01{\\x03\\xff')"
      ]
     },
     "execution_count": 41,
     "metadata": {},
     "output_type": "execute_result"
    }
   ],
   "source": [
    "# bytearray 타입은 mutable\n",
    "the_byte_array[1] = 123\n",
    "the_byte_array"
   ]
  },
  {
   "cell_type": "code",
   "execution_count": 42,
   "metadata": {
    "scrolled": true
   },
   "outputs": [
    {
     "data": {
      "text/plain": [
       "[1, 123, 3, 255]"
      ]
     },
     "execution_count": 42,
     "metadata": {},
     "output_type": "execute_result"
    }
   ],
   "source": [
    "list(the_byte_array)"
   ]
  },
  {
   "cell_type": "markdown",
   "metadata": {},
   "source": [
    "---"
   ]
  },
  {
   "cell_type": "markdown",
   "metadata": {},
   "source": [
    "# Chapter 03 _ 컬렉션 자료구조"
   ]
  },
  {
   "cell_type": "markdown",
   "metadata": {},
   "source": [
    "<b>NOTE :</b> <b>컬렉션(collection)</b> 자료구조는 시퀀스 자료구조와 달리, 데이터를 서로 연관시키지 않고 모아두는 컨테이너(container)다. 컬렉션 자료구조는 시퀀스 자료구조에서 봤던 속성 중 세 가지 속성을 지닌다.\n",
    "\n",
    "- 멤버십 연산자 : in\n",
    "- 크기 함수 : len(seq)\n",
    "- 반복성 : 반복문의 데이터를 순회한다."
   ]
  },
  {
   "cell_type": "code",
   "execution_count": 43,
   "metadata": {},
   "outputs": [
    {
     "name": "stdout",
     "output_type": "stream",
     "text": [
      "['__and__', '__class__', '__contains__', '__delattr__', '__dir__', '__doc__', '__eq__', '__format__', '__ge__', '__getattribute__', '__gt__', '__hash__', '__iand__', '__init__', '__init_subclass__', '__ior__', '__isub__', '__iter__', '__ixor__', '__le__', '__len__', '__lt__', '__ne__', '__new__', '__or__', '__rand__', '__reduce__', '__reduce_ex__', '__repr__', '__ror__', '__rsub__', '__rxor__', '__setattr__', '__sizeof__', '__str__', '__sub__', '__subclasshook__', '__xor__', 'add', 'clear', 'copy', 'difference', 'difference_update', 'discard', 'intersection', 'intersection_update', 'isdisjoint', 'issubset', 'issuperset', 'pop', 'remove', 'symmetric_difference', 'symmetric_difference_update', 'union', 'update']\n"
     ]
    }
   ],
   "source": [
    "print(dir(set()))"
   ]
  },
  {
   "cell_type": "code",
   "execution_count": 44,
   "metadata": {},
   "outputs": [
    {
     "name": "stdout",
     "output_type": "stream",
     "text": [
      "['__and__', '__class__', '__contains__', '__delattr__', '__dir__', '__doc__', '__eq__', '__format__', '__ge__', '__getattribute__', '__gt__', '__hash__', '__init__', '__init_subclass__', '__iter__', '__le__', '__len__', '__lt__', '__ne__', '__new__', '__or__', '__rand__', '__reduce__', '__reduce_ex__', '__repr__', '__ror__', '__rsub__', '__rxor__', '__setattr__', '__sizeof__', '__str__', '__sub__', '__subclasshook__', '__xor__', 'copy', 'difference', 'intersection', 'isdisjoint', 'issubset', 'issuperset', 'symmetric_difference', 'union']\n"
     ]
    }
   ],
   "source": [
    "print(dir(frozenset()))"
   ]
  },
  {
   "cell_type": "markdown",
   "metadata": {},
   "source": [
    "<b>NOTE :</b> <b>프로즌 셋(frozen set)</b>은 셋과 달리 불변 객체이며, 셋에서 사용할 수 있는 일부 메서드를 사용할 수 없다. 곧, 프로즌 셋의 요소를 변경하는 메서드를 사용할 수 없다."
   ]
  },
  {
   "cell_type": "markdown",
   "metadata": {},
   "source": [
    "## ■ 파이썬 컬렉션 데이터 타입"
   ]
  },
  {
   "cell_type": "markdown",
   "metadata": {},
   "source": [
    "<b>NOTE :</b> 파이썬의 <b>collections</b>모듈은 범용의 내장 기능보다 더 다양하고 강력한 딕셔너리 타입을 제공한다."
   ]
  },
  {
   "cell_type": "code",
   "execution_count": 45,
   "metadata": {},
   "outputs": [],
   "source": [
    "from collections import defaultdict\n",
    "\n",
    "pairs = {(\"a\", 1), (\"b\", 2), (\"c\", 3)}"
   ]
  },
  {
   "cell_type": "code",
   "execution_count": 46,
   "metadata": {},
   "outputs": [
    {
     "name": "stdout",
     "output_type": "stream",
     "text": [
      "{'c': [3], 'b': [2], 'a': [1]}\n"
     ]
    }
   ],
   "source": [
    "# 일반 딕셔너리\n",
    "d1 = {}\n",
    "for key , value in pairs :\n",
    "    if key not in d1 :\n",
    "        d1[key] = []\n",
    "    d1[key].append(value)\n",
    "print(d1)"
   ]
  },
  {
   "cell_type": "code",
   "execution_count": 47,
   "metadata": {},
   "outputs": [
    {
     "name": "stdout",
     "output_type": "stream",
     "text": [
      "defaultdict(<class 'list'>, {})\n",
      "defaultdict(<class 'list'>, {'c': [3], 'b': [2], 'a': [1]})\n"
     ]
    }
   ],
   "source": [
    "# defaultdict\n",
    "\n",
    "d2 = defaultdict(list)\n",
    "print(d2)\n",
    "for key, value in pairs :\n",
    "    d2[key].append(value)\n",
    "print(d2)"
   ]
  },
  {
   "cell_type": "code",
   "execution_count": 48,
   "metadata": {},
   "outputs": [
    {
     "data": {
      "text/plain": [
       "[]"
      ]
     },
     "execution_count": 48,
     "metadata": {},
     "output_type": "execute_result"
    }
   ],
   "source": [
    "d2['arbitrary key']"
   ]
  },
  {
   "cell_type": "markdown",
   "metadata": {},
   "source": [
    "<b>NOTE :</b> <b>defaultdict</b>는 내장 딕셔너리의 모든 연산자와 메서드를 사용할 수 있고, 추가로 위와 같이 누락된 키도 처리할 수 있다."
   ]
  },
  {
   "cell_type": "code",
   "execution_count": 49,
   "metadata": {},
   "outputs": [
    {
     "data": {
      "text/plain": [
       "OrderedDict([(8031, '백업'), (4027, '이메일 스캔'), (5733, '시스템 빌드')])"
      ]
     },
     "execution_count": 49,
     "metadata": {},
     "output_type": "execute_result"
    }
   ],
   "source": [
    "from collections import OrderedDict\n",
    "\n",
    "tasks = OrderedDict()\n",
    "tasks[8031] = \"백업\"\n",
    "tasks[4027] = \"이메일 스캔\"\n",
    "tasks[5733] = \"시스템 빌드\"\n",
    "tasks"
   ]
  },
  {
   "cell_type": "markdown",
   "metadata": {},
   "source": [
    "<b>NOTE :</b> <b>OrderedDict</b>는 내장 딕셔너리의 모든 메서드와 속성을 가지고 있고, 추가로 위와 같이 삽입 순서대로 항목을 저장한다."
   ]
  },
  {
   "cell_type": "code",
   "execution_count": 50,
   "metadata": {},
   "outputs": [
    {
     "name": "stdout",
     "output_type": "stream",
     "text": [
      "Counter({5: 4, 1: 3, 2: 3, 3: 1, 4: 1})\n",
      "Counter({1: 4, 2: 4, 5: 4, 3: 2, 4: 1})\n",
      "Counter({1: 5, 2: 4, 5: 4, 3: 3, 4: 2})\n"
     ]
    }
   ],
   "source": [
    "from collections import Counter\n",
    "\n",
    "seq1 = [1, 2, 3, 5, 1, 2, 5, 5, 2, 5, 1, 4]\n",
    "seq_counts = Counter(seq1)\n",
    "print(seq_counts)\n",
    "\n",
    "seq2 = [1, 2, 3]\n",
    "seq_counts.update(seq2)\n",
    "print(seq_counts)\n",
    "\n",
    "seq3 = [1, 4, 3]\n",
    "for key in seq3 :\n",
    "    seq_counts[key] += 1\n",
    "print(seq_counts)"
   ]
  },
  {
   "cell_type": "code",
   "execution_count": 51,
   "metadata": {},
   "outputs": [
    {
     "name": "stdout",
     "output_type": "stream",
     "text": [
      "Counter({1: 1, 4: 1, 3: 1})\n",
      "Counter({1: 6, 2: 4, 3: 4, 5: 4, 4: 3})\n",
      "Counter({1: 4, 2: 4, 5: 4, 3: 2, 4: 1})\n"
     ]
    }
   ],
   "source": [
    "seq_counts_2 = Counter(seq3)\n",
    "print(seq_counts_2)\n",
    "print(seq_counts + seq_counts_2)\n",
    "print(seq_counts - seq_counts_2)\n"
   ]
  },
  {
   "cell_type": "markdown",
   "metadata": {},
   "source": [
    "<b>NOTE :</b> <b>카운터(counter)</b>타입은 해시 가능한(hashable) 객체를 카운팅하는 특화된 서브클래스다. collections.Counter 모듈에서 제공한다."
   ]
  },
  {
   "cell_type": "markdown",
   "metadata": {},
   "source": [
    "---"
   ]
  },
  {
   "cell_type": "markdown",
   "metadata": {},
   "source": [
    "# Chapter 04 _ 구조와 모듈"
   ]
  },
  {
   "cell_type": "markdown",
   "metadata": {},
   "source": [
    "## ■ 모듈"
   ]
  },
  {
   "cell_type": "markdown",
   "metadata": {},
   "source": [
    "<b>NOTE :</b> 파이썬에서 <b>모듈</b>은 def를 사용하여 정의한다. def가 실행되면, 함수의 객체와 참조가 같이 생성된다. 반환값을 정의하지 않으면, 파이썬은 자동으로 None을 반환한다. 아무런 값을 반환하지 않는 함수는 프로시저(procedure)라고 부른다."
   ]
  },
  {
   "cell_type": "markdown",
   "metadata": {},
   "source": [
    "### \\_\\_init\\_\\_.py 파일"
   ]
  },
  {
   "cell_type": "markdown",
   "metadata": {},
   "source": [
    "<b>NOTE :</b> <b>패키지(package)</b>는 모듈과 \\_\\_init\\_\\_.py 파일이 있는 디렉터리다. 파이썬은 \\_\\_init\\_\\_.py 파일이 있는 디렉터리를 패키지로 취급한다. 모듈 검색 경로 중 string과 같이 흔한 이름의 디렉터리에 유효한 모듈이 들어있는 경우 이러한 모듈이 검색되지 않는 문제를 방지하기 위해서다.\n",
    "\n",
    "예) _import 폴더이름.파일모듈명_\n",
    "\n",
    "\\_\\_init\\_\\_.py 파일은 빈 파일일 수도 있지만, 패키지의 초기화 코드를 실행하거나, \\_\\_all\\_\\_ 변수를 정의할 수도 있다.\n",
    "\n",
    "예) <i>\\_\\_all\\__ = [\"파일1\", ...]</i>"
   ]
  },
  {
   "cell_type": "markdown",
   "metadata": {},
   "source": [
    "### \\_\\_name\\_\\_ 변수"
   ]
  },
  {
   "cell_type": "code",
   "execution_count": 52,
   "metadata": {},
   "outputs": [
    {
     "data": {
      "text/plain": [
       "'__main__'"
      ]
     },
     "execution_count": 52,
     "metadata": {},
     "output_type": "execute_result"
    }
   ],
   "source": [
    "__name__"
   ]
  },
  {
   "cell_type": "code",
   "execution_count": 53,
   "metadata": {
    "scrolled": true
   },
   "outputs": [
    {
     "data": {
      "text/plain": [
       "'OrderedDict'"
      ]
     },
     "execution_count": 53,
     "metadata": {},
     "output_type": "execute_result"
    }
   ],
   "source": [
    "OrderedDict.__name__"
   ]
  },
  {
   "cell_type": "markdown",
   "metadata": {},
   "source": [
    "<b>NOTE :</b> 파이썬은 모듈을 import 할 때마다 \\_\\_name\\_\\_이라는 변수를 만들고, 모듈 이름을 저장한다. 즉, 모듈을 import하여 사용하는지, 직접 실행하는지를 구분할 수 있다."
   ]
  },
  {
   "cell_type": "markdown",
   "metadata": {},
   "source": [
    "### sys 모듈"
   ]
  },
  {
   "cell_type": "markdown",
   "metadata": {},
   "source": [
    "sys.path는 인터프리터가 모듈을 검색할 경로를 담은 문자열 리스트다. sys.path 변수는 PYTHONPATH 환경변수 또는 내장된 기본값 경로로 초기화된다. 환경변수를 수정하면 모듈 경로를 추가하거나 임시로 모듈 경로를 추가할 수 있다.\n",
    "\n",
    "예) <i>sys.path.append('모듈_디렉터리_경로')</i>"
   ]
  },
  {
   "cell_type": "markdown",
   "metadata": {},
   "source": [
    "### return 대 yield"
   ]
  },
  {
   "cell_type": "markdown",
   "metadata": {},
   "source": [
    "<b>NOTE :</b> 파이썬에서 제너레이터(generator)는 이터레이터(iterator)를 작성하는 편리한 방법이다. 객체에 \\_\\_iter()\\_\\_와 \\_\\_next()\\_\\_ 메서드를 둘 다 정의하면 이터레이터 프로토콜을 구현한 셈이다. 이때 yield 키워드를 사용하면 편리하다.\n",
    "\n",
    "호출자가 메서드를 호출할 때, __return__ 키워드는 반환값을 반환하고 메서드를 종료한 후, 호출자에게 제어를 반환한다. 반면 __yield__ 키워드는 각 반환값을 호출자에게 반환하고, 반환값이 모두 소진되었을 때에만 메서드가 종료된다.\n",
    "\n",
    "이터레이터는 파이썬의 강력한 기능이다. 이터레이터는 이터레이터 프로토콜을 구현하는 컨테이너 객체라고 할 수 있는데, 컨테이너의 다음 값을 반환하는 \\_\\_next\\_\\_() 메서드와 이터레이터 자신을 반환하는 \\_\\_iter\\_\\_() 메서드를 기반으로 한다.\n",
    "\n",
    "yield 키워드는 제너레이터 맥락에서 이터레이터를 만드는 아주 강력한 도구다. 제너레이터는 최종값을 반환하지만, 이터레이터는 __yield__ 키워드를 사용하여 코드 실행 중에 값을 반환한다. 즉, \\_\\_next\\_\\_() 메서드를 호출할 때마다 어떤 값 하나를 추출한 후 해당 __yield__ 표현식의 값을 반환한다. 이렇게 이터레이터는 __StopIteration__ 예외가 발생할때까지 값을 반환한다."
   ]
  },
  {
   "cell_type": "markdown",
   "metadata": {},
   "source": [
    "### zip"
   ]
  },
  {
   "cell_type": "code",
   "execution_count": 54,
   "metadata": {},
   "outputs": [
    {
     "name": "stdout",
     "output_type": "stream",
     "text": [
      "<zip object at 0x000001C0E721A0C8>\n",
      "[(1, 'a'), (2, 'b'), (3, 'c'), (4, 'd')]\n"
     ]
    }
   ],
   "source": [
    "a = [1, 2, 3, 4, 5]\n",
    "b = ['a', 'b', 'c', 'd']\n",
    "\n",
    "print(zip(a, b))\n",
    "print(list(zip(a, b)))"
   ]
  },
  {
   "cell_type": "markdown",
   "metadata": {},
   "source": [
    "<b>NOTE :</b> __zip()__ 메서드는 2개 이상의 시퀀스를 인수로 취하여, 짧은 길이의 시퀀스를 기준으로 각 항목이 순서대로 1:1 대응하는 새로운 튜플 시퀀스를 만든다."
   ]
  },
  {
   "cell_type": "markdown",
   "metadata": {},
   "source": [
    "### filter()"
   ]
  },
  {
   "cell_type": "code",
   "execution_count": 55,
   "metadata": {},
   "outputs": [
    {
     "name": "stdout",
     "output_type": "stream",
     "text": [
      "False\n",
      "True\n"
     ]
    }
   ],
   "source": [
    "def f(x): \n",
    "    return x % 2 != 0 and x % 3 != 0\n",
    "\n",
    "print(f(33))\n",
    "print(f(17))"
   ]
  },
  {
   "cell_type": "code",
   "execution_count": 56,
   "metadata": {},
   "outputs": [
    {
     "data": {
      "text/plain": [
       "[5, 7, 11, 13, 17, 19, 23]"
      ]
     },
     "execution_count": 56,
     "metadata": {},
     "output_type": "execute_result"
    }
   ],
   "source": [
    "list(filter(f, range(2, 25)))"
   ]
  },
  {
   "cell_type": "markdown",
   "metadata": {},
   "source": [
    "<b>NOTE :</b> __filter()__ 메서드는 시퀀스의 항목들 중 함수 조건이 참(True)인 항목만 추출해서 구성된 시퀀스를 반환한다."
   ]
  },
  {
   "cell_type": "markdown",
   "metadata": {},
   "source": [
    "### map()"
   ]
  },
  {
   "cell_type": "code",
   "execution_count": 57,
   "metadata": {},
   "outputs": [
    {
     "data": {
      "text/plain": [
       "[1, 8, 27, 64, 125, 216, 343, 512, 729, 1000]"
      ]
     },
     "execution_count": 57,
     "metadata": {},
     "output_type": "execute_result"
    }
   ],
   "source": [
    "def cube(x) :\n",
    "    return x*x*x\n",
    "\n",
    "list(map(cube, range(1, 11)))"
   ]
  },
  {
   "cell_type": "code",
   "execution_count": 58,
   "metadata": {
    "scrolled": true
   },
   "outputs": [
    {
     "data": {
      "text/plain": [
       "[(0, 0), (1, 1), (2, 4), (3, 9), (4, 16), (5, 25), (6, 36), (7, 49)]"
      ]
     },
     "execution_count": 58,
     "metadata": {},
     "output_type": "execute_result"
    }
   ],
   "source": [
    "seq = range(8)\n",
    "\n",
    "def square(x) :\n",
    "    return x*x\n",
    "\n",
    "list(zip(seq, map(square, seq)))"
   ]
  },
  {
   "cell_type": "markdown",
   "metadata": {},
   "source": [
    "<b>NOTE :</b> __map(function, list)__ 메서드는 시퀀스의 모든 항목에 함수를 적용한 결과 리스트를 반환한다."
   ]
  },
  {
   "cell_type": "markdown",
   "metadata": {},
   "source": [
    "---"
   ]
  },
  {
   "cell_type": "markdown",
   "metadata": {},
   "source": [
    "# Chapter 05 _ 객체지향 설계"
   ]
  },
  {
   "cell_type": "markdown",
   "metadata": {},
   "source": [
    "## ■ 클래스와 객체"
   ]
  },
  {
   "cell_type": "markdown",
   "metadata": {},
   "source": [
    "### 클래스 인스턴스 생성"
   ]
  },
  {
   "cell_type": "markdown",
   "metadata": {},
   "source": [
    "<b>NOTE :</b> __클래스 인스턴스 생성(class instantiation)__은 함수 표기법을 사용하여 초기 상태의 객체를 생성하는 일이다. Hello라는 클래스가 있다고 하자. 그러면 Hello()를 호출하여 객체를 생성하는데, 이때 Hello()를 생성자(constructor)라고 한다. 생성자를 호출하면 <b>Hello.\\_\\_new\\_\\_()</b>라는 특수 메서드가 호출되어 객체가 할당되고 그다음 <b>Hello.\\_\\_init\\_\\_()</b> 메서드가 객체를 초기화한다."
   ]
  },
  {
   "cell_type": "markdown",
   "metadata": {},
   "source": [
    "## ■ 디자인패턴"
   ]
  },
  {
   "cell_type": "markdown",
   "metadata": {},
   "source": [
    "<b>NOTE :</b> __디자인 패턴(design pattern)__은 잘 설계된 구조의 형식적 정의를 소프트웨어 엔지니어링으로 옮긴 것이다. 다양한 디자인 패턴이 있고 이들을 사용하여 서로 다른 문제를 해결할 수 있다."
   ]
  },
  {
   "cell_type": "markdown",
   "metadata": {},
   "source": [
    "### 데커레이터 패턴"
   ]
  },
  {
   "cell_type": "code",
   "execution_count": 59,
   "metadata": {},
   "outputs": [],
   "source": [
    "def my_decorator(func):\n",
    "    pass\n",
    "\n",
    "class C(object) :\n",
    "    @my_decorator # my_decorator라는 함수에 아래의 method를 인자로 넣는다. \n",
    "    def method(self) :\n",
    "        # 메서드 내용\n",
    "        pass\n",
    "    \n",
    "# 위 코드가 뜻하는 바는 아래와 같다.    \n",
    "\n",
    "class C(object) :\n",
    "    def method(self) :\n",
    "        # 메서드 내용\n",
    "        pass\n",
    "    method = my_decorator(method)"
   ]
  },
  {
   "cell_type": "code",
   "execution_count": 60,
   "metadata": {},
   "outputs": [
    {
     "name": "stdout",
     "output_type": "stream",
     "text": [
      "random_tree 0.021491399999999997\n"
     ]
    },
    {
     "data": {
      "text/plain": [
       "[674,\n",
       " 6385,\n",
       " 2076,\n",
       " 3081,\n",
       " 4,\n",
       " 9709,\n",
       " 4206,\n",
       " 7120,\n",
       " 5540,\n",
       " 7497,\n",
       " 10,\n",
       " 11,\n",
       " 263,\n",
       " 7989,\n",
       " 3427,\n",
       " 7629,\n",
       " 6732,\n",
       " 6107,\n",
       " 667,\n",
       " 1111,\n",
       " 4576,\n",
       " 9216,\n",
       " 3381,\n",
       " 9603,\n",
       " 24,\n",
       " 7314,\n",
       " 26,\n",
       " 5426,\n",
       " 28,\n",
       " 6733,\n",
       " 2180,\n",
       " 31,\n",
       " 9372,\n",
       " 33,\n",
       " 34,\n",
       " 536,\n",
       " 36,\n",
       " 5293,\n",
       " 38,\n",
       " 7894,\n",
       " 1987,\n",
       " 4356,\n",
       " 5509,\n",
       " 893,\n",
       " 8597,\n",
       " 45,\n",
       " 1613,\n",
       " 655,\n",
       " 894,\n",
       " 7407,\n",
       " 6123,\n",
       " 3398,\n",
       " 3970,\n",
       " 550,\n",
       " 6190,\n",
       " 5067,\n",
       " 894,\n",
       " 2248,\n",
       " 58,\n",
       " 6379,\n",
       " 60,\n",
       " 4125,\n",
       " 8207,\n",
       " 9620,\n",
       " 4653,\n",
       " 65,\n",
       " 2523,\n",
       " 569,\n",
       " 68,\n",
       " 4500,\n",
       " 70,\n",
       " 5640,\n",
       " 72,\n",
       " 9260,\n",
       " 9501,\n",
       " 1600,\n",
       " 2759,\n",
       " 9810,\n",
       " 7187,\n",
       " 6813,\n",
       " 6784,\n",
       " 6519,\n",
       " 82,\n",
       " 5980,\n",
       " 2069,\n",
       " 6626,\n",
       " 4497,\n",
       " 87,\n",
       " 5723,\n",
       " 3791,\n",
       " 3650,\n",
       " 2188,\n",
       " 92,\n",
       " 651,\n",
       " 1600,\n",
       " 9161,\n",
       " 96,\n",
       " 2690,\n",
       " 394,\n",
       " 2814,\n",
       " 7167,\n",
       " 5107,\n",
       " 102,\n",
       " 8364,\n",
       " 104,\n",
       " 105,\n",
       " 106,\n",
       " 8058,\n",
       " 108,\n",
       " 2842,\n",
       " 9935,\n",
       " 2337,\n",
       " 9641,\n",
       " 5779,\n",
       " 5294,\n",
       " 7574,\n",
       " 116,\n",
       " 301,\n",
       " 3259,\n",
       " 7057,\n",
       " 7494,\n",
       " 7813,\n",
       " 4739,\n",
       " 140,\n",
       " 6703,\n",
       " 8736,\n",
       " 7730,\n",
       " 680,\n",
       " 128,\n",
       " 9171,\n",
       " 7651,\n",
       " 498,\n",
       " 132,\n",
       " 133,\n",
       " 134,\n",
       " 135,\n",
       " 5817,\n",
       " 2577,\n",
       " 138,\n",
       " 139,\n",
       " 140,\n",
       " 141,\n",
       " 7502,\n",
       " 1477,\n",
       " 3820,\n",
       " 145,\n",
       " 3117,\n",
       " 147,\n",
       " 4587,\n",
       " 6954,\n",
       " 1485,\n",
       " 9500,\n",
       " 152,\n",
       " 5021,\n",
       " 5149,\n",
       " 155,\n",
       " 9324,\n",
       " 2758,\n",
       " 2755,\n",
       " 8845,\n",
       " 2900,\n",
       " 8527,\n",
       " 162,\n",
       " 1052,\n",
       " 1145,\n",
       " 165,\n",
       " 166,\n",
       " 167,\n",
       " 9490,\n",
       " 5961,\n",
       " 9745,\n",
       " 3533,\n",
       " 2302,\n",
       " 4283,\n",
       " 174,\n",
       " 8004,\n",
       " 176,\n",
       " 597,\n",
       " 8713,\n",
       " 179,\n",
       " 1239,\n",
       " 9723,\n",
       " 182,\n",
       " 183,\n",
       " 4913,\n",
       " 185,\n",
       " 4385,\n",
       " 9860,\n",
       " 2234,\n",
       " 643,\n",
       " 190,\n",
       " 3288,\n",
       " 8802,\n",
       " 8640,\n",
       " 3078,\n",
       " 204,\n",
       " 8538,\n",
       " 9528,\n",
       " 1876,\n",
       " 5817,\n",
       " 2928,\n",
       " 4751,\n",
       " 202,\n",
       " 8432,\n",
       " 9510,\n",
       " 205,\n",
       " 9203,\n",
       " 465,\n",
       " 59,\n",
       " 7200,\n",
       " 210,\n",
       " 3447,\n",
       " 212,\n",
       " 7924,\n",
       " 214,\n",
       " 9433,\n",
       " 7947,\n",
       " 5094,\n",
       " 6677,\n",
       " 219,\n",
       " 220,\n",
       " 997,\n",
       " 1645,\n",
       " 4663,\n",
       " 1460,\n",
       " 9000,\n",
       " 5487,\n",
       " 227,\n",
       " 8154,\n",
       " 8629,\n",
       " 2295,\n",
       " 9620,\n",
       " 3357,\n",
       " 4884,\n",
       " 1628,\n",
       " 7342,\n",
       " 7042,\n",
       " 3104,\n",
       " 833,\n",
       " 239,\n",
       " 240,\n",
       " 241,\n",
       " 242,\n",
       " 6554,\n",
       " 9488,\n",
       " 4008,\n",
       " 8595,\n",
       " 247,\n",
       " 1388,\n",
       " 744,\n",
       " 9179,\n",
       " 303,\n",
       " 252,\n",
       " 8817,\n",
       " 3387,\n",
       " 2,\n",
       " 8246,\n",
       " 5075,\n",
       " 4405,\n",
       " 5542,\n",
       " 8851,\n",
       " 4491,\n",
       " 262,\n",
       " 8486,\n",
       " 1220,\n",
       " 8306,\n",
       " 1479,\n",
       " 267,\n",
       " 9716,\n",
       " 269,\n",
       " 942,\n",
       " 4702,\n",
       " 8137,\n",
       " 7810,\n",
       " 274,\n",
       " 7464,\n",
       " 1952,\n",
       " 277,\n",
       " 5310,\n",
       " 3580,\n",
       " 280,\n",
       " 7690,\n",
       " 4022,\n",
       " 6343,\n",
       " 284,\n",
       " 285,\n",
       " 8506,\n",
       " 611,\n",
       " 8291,\n",
       " 9389,\n",
       " 1709,\n",
       " 2538,\n",
       " 9304,\n",
       " 4505,\n",
       " 294,\n",
       " 295,\n",
       " 1771,\n",
       " 5752,\n",
       " 298,\n",
       " 299,\n",
       " 8118,\n",
       " 7174,\n",
       " 302,\n",
       " 1031,\n",
       " 3842,\n",
       " 3251,\n",
       " 2647,\n",
       " 8795,\n",
       " 308,\n",
       " 6977,\n",
       " 1190,\n",
       " 311,\n",
       " 7016,\n",
       " 313,\n",
       " 5089,\n",
       " 8091,\n",
       " 7743,\n",
       " 8664,\n",
       " 258,\n",
       " 319,\n",
       " 2458,\n",
       " 3370,\n",
       " 2467,\n",
       " 4490,\n",
       " 2382,\n",
       " 325,\n",
       " 7536,\n",
       " 327,\n",
       " 4199,\n",
       " 329,\n",
       " 3192,\n",
       " 2538,\n",
       " 9860,\n",
       " 8263,\n",
       " 4995,\n",
       " 335,\n",
       " 9106,\n",
       " 337,\n",
       " 6262,\n",
       " 2041,\n",
       " 4304,\n",
       " 2792,\n",
       " 342,\n",
       " 9601,\n",
       " 3844,\n",
       " 7711,\n",
       " 346,\n",
       " 8854,\n",
       " 348,\n",
       " 349,\n",
       " 6449,\n",
       " 9349,\n",
       " 2675,\n",
       " 353,\n",
       " 2368,\n",
       " 643,\n",
       " 356,\n",
       " 357,\n",
       " 4362,\n",
       " 3791,\n",
       " 360,\n",
       " 361,\n",
       " 362,\n",
       " 9500,\n",
       " 160,\n",
       " 9451,\n",
       " 366,\n",
       " 1093,\n",
       " 368,\n",
       " 369,\n",
       " 370,\n",
       " 7136,\n",
       " 372,\n",
       " 1908,\n",
       " 1179,\n",
       " 375,\n",
       " 376,\n",
       " 7487,\n",
       " 378,\n",
       " 3150,\n",
       " 9723,\n",
       " 7076,\n",
       " 9480,\n",
       " 1814,\n",
       " 384,\n",
       " 9620,\n",
       " 1959,\n",
       " 5082,\n",
       " 1646,\n",
       " 2682,\n",
       " 2792,\n",
       " 391,\n",
       " 96,\n",
       " 3368,\n",
       " 7387,\n",
       " 7654,\n",
       " 3115,\n",
       " 1864,\n",
       " 975,\n",
       " 399,\n",
       " 9980,\n",
       " 286,\n",
       " 3519,\n",
       " 403,\n",
       " 4730,\n",
       " 393,\n",
       " 4273,\n",
       " 377,\n",
       " 408,\n",
       " 582,\n",
       " 410,\n",
       " 411,\n",
       " 6803,\n",
       " 4224,\n",
       " 6727,\n",
       " 415,\n",
       " 8228,\n",
       " 9534,\n",
       " 110,\n",
       " 6876,\n",
       " 5067,\n",
       " 9031,\n",
       " 7198,\n",
       " 578,\n",
       " 7629,\n",
       " 2718,\n",
       " 426,\n",
       " 427,\n",
       " 7703,\n",
       " 524,\n",
       " 677,\n",
       " 3427,\n",
       " 50,\n",
       " 4549,\n",
       " 3989,\n",
       " 9655,\n",
       " 3385,\n",
       " 9490,\n",
       " 8556,\n",
       " 2225,\n",
       " 440,\n",
       " 8726,\n",
       " 2755,\n",
       " 2963,\n",
       " 3017,\n",
       " 9559,\n",
       " 499,\n",
       " 3309,\n",
       " 9939,\n",
       " 3728,\n",
       " 1154,\n",
       " 8880,\n",
       " 7202,\n",
       " 9171,\n",
       " 5857,\n",
       " 2359,\n",
       " 3743,\n",
       " 457,\n",
       " 4934,\n",
       " 409,\n",
       " 460,\n",
       " 461,\n",
       " 2184,\n",
       " 463,\n",
       " 2169,\n",
       " 465,\n",
       " 3313,\n",
       " 4021,\n",
       " 3018,\n",
       " 469,\n",
       " 7629,\n",
       " 3692,\n",
       " 9438,\n",
       " 473,\n",
       " 474,\n",
       " 7174,\n",
       " 476,\n",
       " 477,\n",
       " 4751,\n",
       " 4490,\n",
       " 6219,\n",
       " 481,\n",
       " 8063,\n",
       " 483,\n",
       " 484,\n",
       " 6464,\n",
       " 4423,\n",
       " 487,\n",
       " 2130,\n",
       " 2363,\n",
       " 490,\n",
       " 7564,\n",
       " 2924,\n",
       " 8120,\n",
       " 6908,\n",
       " 8577,\n",
       " 4709,\n",
       " 6786,\n",
       " 498,\n",
       " 7864,\n",
       " 1632,\n",
       " 501,\n",
       " 502,\n",
       " 8639,\n",
       " 504,\n",
       " 9995,\n",
       " 506,\n",
       " 507,\n",
       " 4771,\n",
       " 5729,\n",
       " 7707,\n",
       " 4989,\n",
       " 5876,\n",
       " 1657,\n",
       " 1537,\n",
       " 4912,\n",
       " 2768,\n",
       " 3180,\n",
       " 1635,\n",
       " 519,\n",
       " 2596,\n",
       " 7618,\n",
       " 9029,\n",
       " 981,\n",
       " 975,\n",
       " 8862,\n",
       " 7433,\n",
       " 9549,\n",
       " 528,\n",
       " 1810,\n",
       " 5452,\n",
       " 402,\n",
       " 532,\n",
       " 8221,\n",
       " 5198,\n",
       " 153,\n",
       " 536,\n",
       " 1221,\n",
       " 538,\n",
       " 4233,\n",
       " 5047,\n",
       " 2974,\n",
       " 2177,\n",
       " 8079,\n",
       " 1899,\n",
       " 7079,\n",
       " 546,\n",
       " 4119,\n",
       " 8146,\n",
       " 2419,\n",
       " 550,\n",
       " 551,\n",
       " 9980,\n",
       " 7917,\n",
       " 5183,\n",
       " 7385,\n",
       " 1779,\n",
       " 557,\n",
       " 6712,\n",
       " 9914,\n",
       " 560,\n",
       " 59,\n",
       " 7332,\n",
       " 8416,\n",
       " 3912,\n",
       " 565,\n",
       " 566,\n",
       " 1645,\n",
       " 7988,\n",
       " 8306,\n",
       " 9835,\n",
       " 571,\n",
       " 1965,\n",
       " 573,\n",
       " 8263,\n",
       " 1963,\n",
       " 576,\n",
       " 9051,\n",
       " 8705,\n",
       " 579,\n",
       " 2792,\n",
       " 975,\n",
       " 2903,\n",
       " 7864,\n",
       " 3431,\n",
       " 585,\n",
       " 4606,\n",
       " 587,\n",
       " 6434,\n",
       " 9747,\n",
       " 4726,\n",
       " 591,\n",
       " 592,\n",
       " 6009,\n",
       " 9417,\n",
       " 2624,\n",
       " 596,\n",
       " 445,\n",
       " 598,\n",
       " 1647,\n",
       " 5864,\n",
       " 3098,\n",
       " 9705,\n",
       " 603,\n",
       " 8986,\n",
       " 605,\n",
       " 3465,\n",
       " 7381,\n",
       " 4284,\n",
       " 3777,\n",
       " 1830,\n",
       " 409,\n",
       " 3988,\n",
       " 5424,\n",
       " 614,\n",
       " 56,\n",
       " 4678,\n",
       " 697,\n",
       " 618,\n",
       " 8175,\n",
       " 6663,\n",
       " 621,\n",
       " 862,\n",
       " 5132,\n",
       " 624,\n",
       " 5262,\n",
       " 871,\n",
       " 8004,\n",
       " 3592,\n",
       " 2502,\n",
       " 8277,\n",
       " 631,\n",
       " 6405,\n",
       " 7203,\n",
       " 6008,\n",
       " 8310,\n",
       " 7934,\n",
       " 2928,\n",
       " 4884,\n",
       " 3350,\n",
       " 6907,\n",
       " 3260,\n",
       " 3666,\n",
       " 5200,\n",
       " 8401,\n",
       " 9800,\n",
       " 6250,\n",
       " 3257,\n",
       " 7371,\n",
       " 649,\n",
       " 6573,\n",
       " 3008,\n",
       " 9924,\n",
       " 653,\n",
       " 7369,\n",
       " 1253,\n",
       " 933,\n",
       " 982,\n",
       " 2425,\n",
       " 2305,\n",
       " 2311,\n",
       " 661,\n",
       " 662,\n",
       " 663,\n",
       " 664,\n",
       " 5786,\n",
       " 3506,\n",
       " 5081,\n",
       " 8091,\n",
       " 669,\n",
       " 1461,\n",
       " 3312,\n",
       " 5861,\n",
       " 3743,\n",
       " 9355,\n",
       " 675,\n",
       " 547,\n",
       " 5832,\n",
       " 7360,\n",
       " 7781,\n",
       " 7430,\n",
       " 681,\n",
       " 521,\n",
       " 1249,\n",
       " 4871,\n",
       " 6055,\n",
       " 9455,\n",
       " 7759,\n",
       " 6316,\n",
       " 8777,\n",
       " 3567,\n",
       " 691,\n",
       " 7063,\n",
       " 3277,\n",
       " 4981,\n",
       " 2822,\n",
       " 6362,\n",
       " 697,\n",
       " 508,\n",
       " 699,\n",
       " 700,\n",
       " 701,\n",
       " 1444,\n",
       " 703,\n",
       " 2670,\n",
       " 9786,\n",
       " 9355,\n",
       " 707,\n",
       " 5510,\n",
       " 9213,\n",
       " 710,\n",
       " 711,\n",
       " 285,\n",
       " 4909,\n",
       " 8438,\n",
       " 2040,\n",
       " 5384,\n",
       " 4988,\n",
       " 5067,\n",
       " 673,\n",
       " 720,\n",
       " 2714,\n",
       " 8239,\n",
       " 4385,\n",
       " 3530,\n",
       " 725,\n",
       " 726,\n",
       " 8458,\n",
       " 8495,\n",
       " 2753,\n",
       " 1945,\n",
       " 731,\n",
       " 2718,\n",
       " 733,\n",
       " 812,\n",
       " 9914,\n",
       " 1747,\n",
       " 3899,\n",
       " 9743,\n",
       " 7861,\n",
       " 6135,\n",
       " 741,\n",
       " 3470,\n",
       " 1937,\n",
       " 4656,\n",
       " 745,\n",
       " 7578,\n",
       " 8531,\n",
       " 974,\n",
       " 1864,\n",
       " 1625,\n",
       " 524,\n",
       " 8334,\n",
       " 753,\n",
       " 6784,\n",
       " 6330,\n",
       " 5036,\n",
       " 267,\n",
       " 221,\n",
       " 8699,\n",
       " 7285,\n",
       " 761,\n",
       " 4356,\n",
       " 763,\n",
       " 764,\n",
       " 7089,\n",
       " 1593,\n",
       " 668,\n",
       " 4626,\n",
       " 6862,\n",
       " 770,\n",
       " 9466,\n",
       " 772,\n",
       " 773,\n",
       " 8946,\n",
       " 1572,\n",
       " 1365,\n",
       " 777,\n",
       " 778,\n",
       " 975,\n",
       " 6217,\n",
       " 5054,\n",
       " 4125,\n",
       " 7077,\n",
       " 784,\n",
       " 2589,\n",
       " 786,\n",
       " 4449,\n",
       " 7360,\n",
       " 789,\n",
       " 1381,\n",
       " 791,\n",
       " 3771,\n",
       " 3107,\n",
       " 8906,\n",
       " 6954,\n",
       " 9170,\n",
       " 855,\n",
       " 1028,\n",
       " 1998,\n",
       " 3277,\n",
       " 7898,\n",
       " 8875,\n",
       " 9524,\n",
       " 6539,\n",
       " 6617,\n",
       " 1789,\n",
       " 807,\n",
       " 4328,\n",
       " 809,\n",
       " 477,\n",
       " 6504,\n",
       " 4981,\n",
       " 4042,\n",
       " 8193,\n",
       " 1679,\n",
       " 4860,\n",
       " 817,\n",
       " 2930,\n",
       " 819,\n",
       " 9521,\n",
       " 5497,\n",
       " 1228,\n",
       " 4206,\n",
       " 1649,\n",
       " 444,\n",
       " 8460,\n",
       " 827,\n",
       " 1546,\n",
       " 8593,\n",
       " 830,\n",
       " 3292,\n",
       " 832,\n",
       " 4909,\n",
       " 7229,\n",
       " 2453,\n",
       " 5324,\n",
       " 3668,\n",
       " 3039,\n",
       " 9722,\n",
       " 8247,\n",
       " 1006,\n",
       " 6434,\n",
       " 2294,\n",
       " 844,\n",
       " 845,\n",
       " 846,\n",
       " 8401,\n",
       " 4478,\n",
       " 7195,\n",
       " 3639,\n",
       " 544,\n",
       " 9595,\n",
       " 2846,\n",
       " 1307,\n",
       " 855,\n",
       " 4092,\n",
       " 9816,\n",
       " 2148,\n",
       " 6694,\n",
       " 6614,\n",
       " 4468,\n",
       " 6703,\n",
       " 863,\n",
       " 5249,\n",
       " 35,\n",
       " 7592,\n",
       " 867,\n",
       " 78,\n",
       " 869,\n",
       " 870,\n",
       " 14,\n",
       " 3704,\n",
       " 78,\n",
       " 1911,\n",
       " 1193,\n",
       " 3388,\n",
       " 2426,\n",
       " 2468,\n",
       " 3382,\n",
       " 636,\n",
       " 103,\n",
       " 5047,\n",
       " 1550,\n",
       " 892,\n",
       " 885,\n",
       " 7086,\n",
       " 9348,\n",
       " 2599,\n",
       " 8576,\n",
       " 8921,\n",
       " 4762,\n",
       " 4321,\n",
       " 5907,\n",
       " 6842,\n",
       " 380,\n",
       " 5873,\n",
       " 897,\n",
       " 898,\n",
       " 1111,\n",
       " 900,\n",
       " 140,\n",
       " 732,\n",
       " 7592,\n",
       " 7229,\n",
       " 7315,\n",
       " 3260,\n",
       " 5751,\n",
       " 4229,\n",
       " 3295,\n",
       " 8427,\n",
       " 5534,\n",
       " 3857,\n",
       " 8658,\n",
       " 3622,\n",
       " 3689,\n",
       " 916,\n",
       " 4478,\n",
       " 7961,\n",
       " 4777,\n",
       " 4633,\n",
       " 921,\n",
       " 1475,\n",
       " 8148,\n",
       " 6898,\n",
       " 2376,\n",
       " 926,\n",
       " 9839,\n",
       " 1833,\n",
       " 6923,\n",
       " 2876,\n",
       " 931,\n",
       " 111,\n",
       " 3155,\n",
       " 9559,\n",
       " 4716,\n",
       " 3480,\n",
       " 4490,\n",
       " 938,\n",
       " 9510,\n",
       " 9349,\n",
       " 941,\n",
       " 262,\n",
       " 943,\n",
       " 7660,\n",
       " 486,\n",
       " 946,\n",
       " 3464,\n",
       " 948,\n",
       " 1641,\n",
       " 4913,\n",
       " 3708,\n",
       " 3811,\n",
       " 6784,\n",
       " 3177,\n",
       " 5613,\n",
       " 6930,\n",
       " 6107,\n",
       " 3332,\n",
       " 4859,\n",
       " 960,\n",
       " 1197,\n",
       " 1355,\n",
       " 963,\n",
       " 964,\n",
       " 260,\n",
       " 966,\n",
       " 967,\n",
       " 3853,\n",
       " 5063,\n",
       " 7745,\n",
       " 7649,\n",
       " 9093,\n",
       " 973,\n",
       " 5123,\n",
       " 6499,\n",
       " 8624,\n",
       " 3666,\n",
       " 7594,\n",
       " 3790,\n",
       " 7120,\n",
       " 3278,\n",
       " 3399,\n",
       " 1050,\n",
       " 984,\n",
       " 3989,\n",
       " 3545,\n",
       " 5633,\n",
       " 1359,\n",
       " 1559,\n",
       " 4313,\n",
       " 8315,\n",
       " 992,\n",
       " 993,\n",
       " 2714,\n",
       " 995,\n",
       " 3340,\n",
       " 9677,\n",
       " 582,\n",
       " 944,\n",
       " ...]"
      ]
     },
     "execution_count": 60,
     "metadata": {},
     "output_type": "execute_result"
    }
   ],
   "source": [
    "# 데커레이터를 이용한 벤치마킹 코드\n",
    "\n",
    "import random\n",
    "import time\n",
    "\n",
    "def benchmark(func) :\n",
    "    def wrapper(*args, **kwargs) :\n",
    "        t = time.perf_counter() # 코드 실행 시간 측정\n",
    "        res = func(*args, **kwargs)\n",
    "        print('{0} {1}'.format(func.__name__, time.perf_counter()-t))\n",
    "        return res\n",
    "    return wrapper\n",
    "\n",
    "@benchmark\n",
    "def random_tree(n) :\n",
    "    temp = [n for n in range(n)]\n",
    "    for i in range(n + 1) :\n",
    "        temp[random.choice(temp)] = random.choice(temp)\n",
    "    return temp\n",
    "\n",
    "random_tree(10000)"
   ]
  },
  {
   "cell_type": "markdown",
   "metadata": {},
   "source": [
    "<b>NOTE :</b> __데커레이터(decorator)__패턴은 @표기를 사용해 함수 또는 메서드의 변환을 우아하게 지정해주는 도구다. 데커레이터 패턴은 함수의 객체와 함수를 변경하는 다른 객체의 래핑(wrapping)을 허용한다."
   ]
  },
  {
   "cell_type": "code",
   "execution_count": 61,
   "metadata": {
    "scrolled": true
   },
   "outputs": [
    {
     "name": "stdout",
     "output_type": "stream",
     "text": [
      "foo(<__main__.A object at 0x000001C0E71F0710>, 1) 실행\n",
      "class_foo(<class '__main__.A'>, 2) 실행 True\n",
      "class_foo(<class '__main__.A'>, 2) 실행 True\n",
      "static_foo(3) 실행\n",
      "static_foo(3) 실행\n"
     ]
    }
   ],
   "source": [
    "class A(object) :\n",
    "    _hello = True\n",
    "    \n",
    "    def foo(self, x) :\n",
    "        print(\"foo({0}, {1}) 실행\".format(self, x))\n",
    "        \n",
    "    @classmethod\n",
    "    def class_foo(cls, x) :\n",
    "        print(\"class_foo({0}, {1}) 실행 {2}\".format(cls, x, cls._hello))\n",
    "        \n",
    "    @staticmethod\n",
    "    def static_foo(x) :\n",
    "        print(\"static_foo({0}) 실행\".format(x))\n",
    "        \n",
    "a = A()\n",
    "a.foo(1)\n",
    "a.class_foo(2)\n",
    "A.class_foo(2)\n",
    "a.static_foo(3)\n",
    "A.static_foo(3)"
   ]
  },
  {
   "cell_type": "markdown",
   "metadata": {},
   "source": [
    "<b>NOTE :</b> 파이썬에서 일반적으로 사용하는 데커레이터는 __@classmethod__와 __@staticmethod__가 있다. 이들은 각각 메서드를 클래스와 정적 메서드로 변환한다. __@classmethod__는 첫 번째 인수로 클래스(cls)를 사용하고, __@staticmethod__는 첫 번째 인수에 self 혹은 cls가 없다. 클래스 내 변수에 접근하려면 __@classmethod__의 첫 번째 인수를 사용할 수 있다."
   ]
  },
  {
   "cell_type": "markdown",
   "metadata": {},
   "source": [
    "# Chapter 06 _ 파이썬 고급 주제"
   ]
  },
  {
   "cell_type": "markdown",
   "metadata": {},
   "source": [
    "## ■ 멀티 프로세스와 멀티 스레드"
   ]
  },
  {
   "cell_type": "markdown",
   "metadata": {},
   "source": [
    "<b>NOTE :</b> 운영체제에서 실행되는 각 프로그램은 각각이 별도의 <b>프로세스(process)</b>다. 각 프로세스에는 하나 이상의 <b>스레드(thread)</b>가 있다. 한 프로세스에 여러 개의 스레드가 있다면 여러 작업을 마치 동시에 수행하는 것처럼 보인다. 이렇게 멀티 프로세스와 멀티 스레드라는 두 가지 방법을 사용하면, 프로그램의 작업 부하를 분산시킬 수 있다.\n",
    "\n",
    "   * __멀티 프로세스__<br>\n",
    "   멀티 프로세스는 별도의 메모리 영역을 가지며, 특별한 메커니즘으로만 통신할 수 있다. 프로세서는 각 스레드에 대해 별도의 레지스터 집합을 불러오거나 저장하는데, 프로세스 간 데이터 공유와 통신용으로는 비효율적이다. 파이썬에서는 멀티 프로세스 방식에 subprocess 모듈을 사용한다.\n",
    "   * __멀티 스레드__<br>\n",
    "   단일 프로세스 내의 멀티 스레드는 동일한 메모리에 접근한다. 스레드는 데이터 공유를 통해 간단하게 통신하는데, threading 모듈의 처리를 통해 한번에 한 스레드만 메모리 영역에 접근할 수 있다. 각 프로세스가 독립적인 스택(stack), 힙(heap), 코드(code), 데이터(data) 영역을 가지는 반면, 한 프로세스에 속한 스레드는 스택 스택 영역을 제외한 메모리 영역을 공유한다.\n",
    "   "
   ]
  },
  {
   "cell_type": "markdown",
   "metadata": {},
   "source": [
    "### subprocess 모듈"
   ]
  },
  {
   "cell_type": "code",
   "execution_count": 62,
   "metadata": {},
   "outputs": [
    {
     "data": {
      "text/plain": [
       "CompletedProcess(args=['echo', '이것은 subprocess 입니다.'], returncode=0)"
      ]
     },
     "execution_count": 62,
     "metadata": {},
     "output_type": "execute_result"
    }
   ],
   "source": [
    "import subprocess\n",
    "\n",
    "subprocess.run([\"echo\", \"이것은 subprocess 입니다.\"])"
   ]
  },
  {
   "cell_type": "code",
   "execution_count": 63,
   "metadata": {},
   "outputs": [
    {
     "data": {
      "text/plain": [
       "CompletedProcess(args=['sleep', '5'], returncode=0)"
      ]
     },
     "execution_count": 63,
     "metadata": {},
     "output_type": "execute_result"
    }
   ],
   "source": [
    "subprocess.run([\"sleep\", \"5\"]) # 5초 동안 sleep"
   ]
  },
  {
   "cell_type": "markdown",
   "metadata": {},
   "source": [
    "### threading 모듈"
   ]
  },
  {
   "cell_type": "code",
   "execution_count": 64,
   "metadata": {
    "scrolled": true
   },
   "outputs": [
    {
     "name": "stdout",
     "output_type": "stream",
     "text": [
      "스레드 1 : 처리 완료 0스레드 2 : 처리 완료 1스레드 5 : 처리 완료 2\n",
      "스레드 5 : 처리 완료 3\n",
      "스레드 5 : 처리 완료 4\n",
      "스레드 5 : 처리 완료 5\n",
      "스레드 5 : 처리 완료 6\n",
      "스레드 2 : 처리 완료 7스레드 4 : 처리 완료 8스레드 3 : 처리 완료 9\n",
      "스레드 3 : 처리 완료 10\n",
      "스레드 3 : 처리 완료 11\n",
      "스레드 3 : 처리 완료 12\n",
      "스레드 3 : 처리 완료 13\n",
      "스레드 3 : 처리 완료 14\n",
      "스레드 3 : 처리 완료 15\n",
      "스레드 3 : 처리 완료 16\n",
      "스레드 3 : 처리 완료 17\n",
      "스레드 3 : 처리 완료 18\n",
      "스레드 3 : 처리 완료 19\n",
      "\n",
      "\n",
      "스레드 3 : 처리 완료 20\n",
      "스레드 3 : 처리 완료 21\n",
      "스레드 3 : 처리 완료 22\n",
      "스레드 3 : 처리 완료 23\n",
      "\n",
      "스레드 1 : 처리 완료 24\n",
      "스레드 1 : 처리 완료 25\n",
      "스레드 1 : 처리 완료 26\n",
      "스레드 1 : 처리 완료 27\n",
      "스레드 1 : 처리 완료 28\n",
      "스레드 1 : 처리 완료 29\n",
      "스레드 1 : 처리 완료 30\n",
      "스레드 1 : 처리 완료 31\n",
      "스레드 1 : 처리 완료 32\n",
      "스레드 1 : 처리 완료 33\n",
      "스레드 1 : 처리 완료 34\n",
      "스레드 1 : 처리 완료 35\n",
      "스레드 1 : 처리 완료 36\n",
      "스레드 1 : 처리 완료 37\n",
      "스레드 1 : 처리 완료 38스레드 5 : 처리 완료 39\n",
      "스레드 3 : 처리 완료 40\n",
      "스레드 3 : 처리 완료 41\n",
      "스레드 3 : 처리 완료 42\n",
      "스레드 3 : 처리 완료 43\n",
      "스레드 3 : 처리 완료 44\n",
      "스레드 3 : 처리 완료 45\n",
      "스레드 3 : 처리 완료 46\n",
      "스레드 3 : 처리 완료 47\n",
      "스레드 3 : 처리 완료 48\n",
      "스레드 3 : 처리 완료 49\n",
      "\n",
      "\n"
     ]
    }
   ],
   "source": [
    "import queue\n",
    "import threading\n",
    "\n",
    "q = queue.Queue()\n",
    "\n",
    "def worker(num) :\n",
    "    while True :\n",
    "        item = q.get()\n",
    "        if item is None :\n",
    "            break\n",
    "        # 작업을 처리한다.\n",
    "        print(\"스레드 {0} : 처리 완료 {1}\".format(num+1 , item))\n",
    "        q.task_done()\n",
    "\n",
    "num_worker_threads = 5\n",
    "threads = []\n",
    "for i in range(num_worker_threads) :\n",
    "    t = threading.Thread(target=worker, args=(i,))\n",
    "    t.start()\n",
    "    threads.append(t)\n",
    "    \n",
    "for item in range(50) :\n",
    "    q.put(item)\n",
    "    \n",
    "# 모든 작업이 끝날 때까지 대기한다.\n",
    "q.join()\n",
    "\n",
    "# worker 스레드를 종료한다.\n",
    "for i in range(num_worker_threads) :\n",
    "    q.put(None)\n",
    "for t in threads :\n",
    "    t.join()"
   ]
  }
 ],
 "metadata": {
  "kernelspec": {
   "display_name": "Python 3",
   "language": "python",
   "name": "python3"
  },
  "language_info": {
   "codemirror_mode": {
    "name": "ipython",
    "version": 3
   },
   "file_extension": ".py",
   "mimetype": "text/x-python",
   "name": "python",
   "nbconvert_exporter": "python",
   "pygments_lexer": "ipython3",
   "version": "3.6.8"
  }
 },
 "nbformat": 4,
 "nbformat_minor": 2
}
