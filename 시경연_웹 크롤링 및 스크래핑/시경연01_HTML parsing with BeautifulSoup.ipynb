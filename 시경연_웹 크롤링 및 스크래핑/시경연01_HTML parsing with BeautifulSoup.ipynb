{
 "cells": [
  {
   "cell_type": "markdown",
   "metadata": {},
   "source": [
    "# BeutifulSoup로 html Parsing하기"
   ]
  },
  {
   "cell_type": "markdown",
   "metadata": {},
   "source": [
    "HTML 연습장 : https://www.w3schools.com/html/tryit.asp?filename=tryhtml_intro"
   ]
  },
  {
   "cell_type": "markdown",
   "metadata": {},
   "source": [
    "## 1) BeautifulSoup로 HTML Parsing 예제01"
   ]
  },
  {
   "cell_type": "markdown",
   "metadata": {},
   "source": [
    "### 목표 : BeautifulSoup 객체 이용 방법 및 HTML tag로 분석하기"
   ]
  },
  {
   "cell_type": "code",
   "execution_count": null,
   "metadata": {},
   "outputs": [],
   "source": [
    "!pip install bs4"
   ]
  },
  {
   "cell_type": "code",
   "execution_count": null,
   "metadata": {},
   "outputs": [],
   "source": [
    "from bs4 import BeautifulSoup"
   ]
  },
  {
   "cell_type": "code",
   "execution_count": null,
   "metadata": {},
   "outputs": [],
   "source": [
    "html = \"\"\"\n",
    "<html><body>\n",
    "  <h1>Find VS Select 차이</h1>\n",
    "  <p>CSS 선택자를 사용 및 다중반환</p>\n",
    "  <p>태그선택자 사용 및 단일반환</p>\n",
    "</body></html>\n",
    "\"\"\""
   ]
  },
  {
   "cell_type": "code",
   "execution_count": null,
   "metadata": {},
   "outputs": [],
   "source": [
    "soup = BeautifulSoup(html, 'html.parser')"
   ]
  },
  {
   "cell_type": "code",
   "execution_count": null,
   "metadata": {},
   "outputs": [],
   "source": [
    "print(soup)\n",
    "print()\n",
    "print('type >>> ',type(soup))"
   ]
  },
  {
   "cell_type": "code",
   "execution_count": null,
   "metadata": {},
   "outputs": [],
   "source": [
    "print(soup.html)\n",
    "print()\n",
    "print('type >>> ',type(soup.html))"
   ]
  },
  {
   "cell_type": "code",
   "execution_count": null,
   "metadata": {},
   "outputs": [],
   "source": [
    "print(soup.html.body)\n",
    "print()\n",
    "print('type >>> ',type(soup.html.body))"
   ]
  },
  {
   "cell_type": "code",
   "execution_count": null,
   "metadata": {},
   "outputs": [],
   "source": [
    "h1 = soup.html.body.h1\n",
    "print(h1)\n",
    "print()\n",
    "print('type >>> ',type(h1))"
   ]
  },
  {
   "cell_type": "code",
   "execution_count": null,
   "metadata": {},
   "outputs": [],
   "source": [
    "p1 = soup.html.body.p\n",
    "print(p1)\n",
    "print()\n",
    "print('type >>> ',type(p1))"
   ]
  },
  {
   "cell_type": "code",
   "execution_count": null,
   "metadata": {},
   "outputs": [],
   "source": [
    "p2 = p1.next_sibling.next_sibling\n",
    "print(p2)\n",
    "print()\n",
    "print('type >>> ',type(p2))"
   ]
  },
  {
   "cell_type": "code",
   "execution_count": null,
   "metadata": {},
   "outputs": [],
   "source": [
    "p3 = p1.previousSibling.previous_sibling\n",
    "print(p3)\n",
    "print()\n",
    "print('type >>> ',type(p3))"
   ]
  },
  {
   "cell_type": "code",
   "execution_count": null,
   "metadata": {},
   "outputs": [],
   "source": [
    "h1 = soup.html.body.h1\n",
    "print('h1',h1)\n",
    "print()\n",
    "p1 = soup.html.body.p\n",
    "print('p1',p1)\n",
    "print()\n",
    "p2 = p1.next_sibling.next_sibling\n",
    "print('p2',p2)\n",
    "print()\n",
    "p3 = p1.previous_sibling.previous_sibling\n",
    "print('p3',p3)\n",
    "print()\n",
    "\n",
    "print(\"h1 = \" + h1.string)\n",
    "print(\"p  = \" + p1.string)\n",
    "print(\"p  = \" + p2.string)"
   ]
  },
  {
   "cell_type": "markdown",
   "metadata": {},
   "source": [
    "## 2) BeautifulSoup로 HTML Parsing 예제02"
   ]
  },
  {
   "cell_type": "markdown",
   "metadata": {},
   "source": [
    "### 목표 : soup.find_all 익히기"
   ]
  },
  {
   "cell_type": "code",
   "execution_count": null,
   "metadata": {},
   "outputs": [],
   "source": [
    "from bs4 import BeautifulSoup\n",
    "html = \"\"\"\n",
    "<html><body>\n",
    "  <ul>\n",
    "    <li><a href=\"http://www.naver.com\">naver</a></li>\n",
    "    <li><a href=\"http://www.daum.net\">daum</a></li>\n",
    "    <li><a href=\"https://www.google.com\">google</a></li>\n",
    "    <li><a href=\"https://www.tistory.com\">tistory</a></li>\n",
    "  </ul>\n",
    "</body></html>\n",
    "\"\"\"\n",
    "soup = BeautifulSoup(html, 'html.parser')\n",
    "print('----- HTML의 indent를 살려서 출력하기 -----')\n",
    "print(soup.prettify())"
   ]
  },
  {
   "cell_type": "code",
   "execution_count": null,
   "metadata": {},
   "outputs": [],
   "source": [
    "a_all = soup.find_all(\"a\")\n",
    "print('a_all >>> ',a_all)"
   ]
  },
  {
   "cell_type": "code",
   "execution_count": null,
   "metadata": {},
   "outputs": [],
   "source": [
    "a_daum = soup.find_all(\"a\", string=\"daum\")\n",
    "print('a_daum >>> ',a_daum)"
   ]
  },
  {
   "cell_type": "code",
   "execution_count": null,
   "metadata": {},
   "outputs": [],
   "source": [
    "a_lim = soup.find_all(\"a\", limit=2)\n",
    "print('a_lim >>> ',a_lim)"
   ]
  },
  {
   "cell_type": "code",
   "execution_count": null,
   "metadata": {},
   "outputs": [],
   "source": [
    "a_all = soup.find_all(\"a\")\n",
    "print('----- a_all 변수에 있는 HTML 내의 모든 a 태그들 -----\\n', a_all)\n",
    "print()\n",
    "\n",
    "# 출력\n",
    "for a in a_all:\n",
    "    print(a, type(a))\n",
    "    text = a.string\n",
    "    href = a.attrs['href']\n",
    "    print(text, \">\", href)\n",
    "    print()"
   ]
  },
  {
   "cell_type": "markdown",
   "metadata": {},
   "source": [
    "a_all 리스트를 구성하는 모든 element들의 타입이 <class 'bs4.element.Tag'> 이므로 위와 같은 방법으로 HTML내의 태그들을 분석할 수 있다.\n",
    "\n",
    "- a.string : a 태그의 문자열(string) 값\n",
    "- a.atters['href'] : a 태그의 실제 링크 주소"
   ]
  },
  {
   "cell_type": "markdown",
   "metadata": {},
   "source": [
    "## 3) BeautifulSoup로 HTML Parsing 예제03"
   ]
  },
  {
   "cell_type": "markdown",
   "metadata": {},
   "source": [
    "### 목표 : soup.select 이용하기"
   ]
  },
  {
   "cell_type": "code",
   "execution_count": null,
   "metadata": {
    "scrolled": false
   },
   "outputs": [],
   "source": [
    "from bs4 import BeautifulSoup\n",
    "\n",
    "html = \"\"\"\n",
    "<html><body>\n",
    "<div id=\"main\">\n",
    "  <h1>강의목록</h1>\n",
    "  <ul class=\"lecs\">\n",
    "    <li>Java 초고수 되기</li>\n",
    "    <li>파이썬 기초 프로그래밍</li>\n",
    "    <li>파이썬 머신러닝 프로그래밍</li>\n",
    "    <li>안드로이드 블루투스 프로그래밍</li>\n",
    "  </ul>\n",
    "</div>\n",
    "</body></html>\n",
    "\"\"\"\n",
    "\n",
    "soup = BeautifulSoup(html, 'html.parser')\n",
    "print(soup.prettify())"
   ]
  },
  {
   "cell_type": "code",
   "execution_count": null,
   "metadata": {},
   "outputs": [],
   "source": [
    "print(soup.select_one(\"div#main > h1\"))\n",
    "print(type(soup.select_one(\"div#main > h1\")))"
   ]
  },
  {
   "cell_type": "code",
   "execution_count": null,
   "metadata": {},
   "outputs": [],
   "source": [
    "h1 = soup.select_one(\"div#main > h1\").string\n",
    "print(\"h1 >>> \", h1)"
   ]
  },
  {
   "cell_type": "code",
   "execution_count": null,
   "metadata": {},
   "outputs": [],
   "source": [
    "# soup.select_one은 하나의 객체만 다룸\n",
    "# soup.select는 여러 객체를 리스트로 다룸\n",
    "\n",
    "li_list = soup.select(\"div#main > ul.lecs > li\")\n",
    "print(li_list)\n",
    "print()\n",
    "for li in li_list:\n",
    "    print('li >>> ', li)\n",
    "    print(\"li.string >>> \", li.string)\n",
    "    print()"
   ]
  },
  {
   "cell_type": "markdown",
   "metadata": {},
   "source": [
    "<b>div#main > ul.lecs > li</b>의 해석\n",
    "- div#main : 'div'들 중에서 id 값이 'main'인 div\n",
    "- \\> : 그것의 하위 레벨에 위치한\n",
    "- ul.lecs : 'ul'태그 중에서 class가 'lecs'인> : 그것의 하위 레벨이 위치한\n",
    "- li : li 태그들"
   ]
  },
  {
   "cell_type": "code",
   "execution_count": null,
   "metadata": {},
   "outputs": [],
   "source": []
  }
 ],
 "metadata": {
  "kernelspec": {
   "display_name": "Python 3",
   "language": "python",
   "name": "python3"
  },
  "language_info": {
   "codemirror_mode": {
    "name": "ipython",
    "version": 3
   },
   "file_extension": ".py",
   "mimetype": "text/x-python",
   "name": "python",
   "nbconvert_exporter": "python",
   "pygments_lexer": "ipython3",
   "version": "3.6.8"
  }
 },
 "nbformat": 4,
 "nbformat_minor": 2
}
