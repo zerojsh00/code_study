{
 "cells": [
  {
   "cell_type": "markdown",
   "metadata": {},
   "source": [
    "# Selenium 설치 "
   ]
  },
  {
   "cell_type": "markdown",
   "metadata": {},
   "source": [
    "Selenium(open source)은 Anaconda에 포함된 모듈이 아니기 때문에 별도로 설치해야 한다. Anaconda Prompt(Mac의 경우 Terminal 등)에서 <i>pip install selenium</i>만으로 쉽게 설치된다.\n",
    "\n",
    "그러나 Selenium은 모듈 설치만으로는 동작하지 않는다. 사용하는 웹 브라우저에 맞춰 웹 드라이버를 다운받아야 한다. 일반적으로는 구글 크롬을 사용하므로 크롬 웹 드라이버를 다운받는다.(https://goo.gl/x5Wo5A)\n",
    "\n",
    "자신의 운영체제를 고려해서 크롬 버전정보(크롬:도움말 > 크롬 정보에서 확인)를 확인 후 다운받는다. 윈도우 유저는 그냥 32bit로 받으면 된다. 그러고 나서 웹 드라이버를 보관하고자 하는 경로에 압축 푼다. 본 예제에서는 소스코드가 있는 폴더 경로에서 'driver'라는 폴더를 만든 후 그 안에 넣었다."
   ]
  },
  {
   "cell_type": "code",
   "execution_count": null,
   "metadata": {},
   "outputs": [],
   "source": [
    "# 파이썬 패키지(open source) 다운로드\n",
    "# !의 경우 CMD 창에서는 생략 가능, 주피터 노트북에서만 사용\n",
    "\n",
    "!pip install selenium "
   ]
  },
  {
   "cell_type": "code",
   "execution_count": null,
   "metadata": {},
   "outputs": [],
   "source": [
    "# Selenium이 아나콘다에 설치되었음을 확인할 수 있다.\n",
    "!conda list"
   ]
  },
  {
   "cell_type": "markdown",
   "metadata": {},
   "source": [
    "pip는 파이썬으로 작성된 패키지 소프트웨어를 설치 · 관리하는 패키지 관리 시스템 이다. Python Package Index (PyPI)에서 많은 파이썬 패키지를 찾을 수 있다. 파이썬 2.7.9 이후 버전과 파이썬 3.4 이후 버전은 pip를 기본적으로 포함한다."
   ]
  },
  {
   "cell_type": "code",
   "execution_count": null,
   "metadata": {},
   "outputs": [],
   "source": [
    "from selenium import webdriver\n",
    "\n",
    "driver = webdriver.Chrome('./driver/chromedriver') # 다운받은 크롬 드라이버 있는 경로\n",
    "driver.get('http://naver.com')"
   ]
  },
  {
   "cell_type": "code",
   "execution_count": null,
   "metadata": {},
   "outputs": [],
   "source": [
    "driver.save_screenshot('./screenshot_test.jpg')"
   ]
  },
  {
   "cell_type": "markdown",
   "metadata": {},
   "source": [
    "### NAVER로그인 버튼 클릭하기"
   ]
  },
  {
   "cell_type": "code",
   "execution_count": null,
   "metadata": {},
   "outputs": [],
   "source": [
    "# 크롬 개발자도구로 NAVER 로그인의 xpath를 검색해보자 : //*[@id=\"account\"]/div/a/i\n",
    "driver.find_element_by_xpath('//*[@id=\"account\"]/div/a/i').click()"
   ]
  },
  {
   "cell_type": "markdown",
   "metadata": {},
   "source": [
    "### 자신의 아이디로 로그인하기"
   ]
  },
  {
   "cell_type": "code",
   "execution_count": null,
   "metadata": {},
   "outputs": [],
   "source": [
    "element_id = driver.find_element_by_xpath('//*[@id=\"id\"]')\n",
    "element_id.clear() # 혹시나 뭐라도 써있으면 지워주는 역할\n",
    "element_id.send_keys('자신의 아이디')"
   ]
  },
  {
   "cell_type": "code",
   "execution_count": null,
   "metadata": {},
   "outputs": [],
   "source": [
    "element_pw = driver.find_element_by_xpath('//*[@id=\"pw\"]')\n",
    "element_pw.clear() # 혹시나 뭐라도 써있으면 지워주는 역할\n",
    "element_pw.send_keys('자신의 비밀번호')"
   ]
  },
  {
   "cell_type": "code",
   "execution_count": null,
   "metadata": {},
   "outputs": [],
   "source": [
    "# 로그인 버튼의 xpath\n",
    "driver.find_element_by_xpath('//*[@id=\"frmNIDLogin\"]/fieldset/input').click()"
   ]
  },
  {
   "cell_type": "markdown",
   "metadata": {},
   "source": [
    "### 네이버 메일에 접근(로그인이 완료된 상태이므로)"
   ]
  },
  {
   "cell_type": "code",
   "execution_count": null,
   "metadata": {},
   "outputs": [],
   "source": [
    "# 네이버 메일로 이동함\n",
    "driver.get('http://mail.naver.com')"
   ]
  },
  {
   "cell_type": "markdown",
   "metadata": {},
   "source": [
    "### 현재 상태에서 BeautifulSoup을 이용하여 HTML Parsing 가능"
   ]
  },
  {
   "cell_type": "code",
   "execution_count": null,
   "metadata": {},
   "outputs": [],
   "source": [
    "from bs4 import BeautifulSoup\n",
    "\n",
    "html = driver.page_source\n",
    "soup = BeautifulSoup(html, 'html.parser')"
   ]
  },
  {
   "cell_type": "code",
   "execution_count": null,
   "metadata": {},
   "outputs": [],
   "source": [
    "title_list = soup.select('#list_for_view > ol > li > div > div.subject > a > span > strong')"
   ]
  },
  {
   "cell_type": "code",
   "execution_count": null,
   "metadata": {},
   "outputs": [],
   "source": [
    "for title in title_list:\n",
    "    print(title.get_text())"
   ]
  },
  {
   "cell_type": "code",
   "execution_count": null,
   "metadata": {},
   "outputs": [],
   "source": [
    "driver.close()"
   ]
  },
  {
   "cell_type": "code",
   "execution_count": null,
   "metadata": {},
   "outputs": [],
   "source": []
  }
 ],
 "metadata": {
  "kernelspec": {
   "display_name": "Python 3",
   "language": "python",
   "name": "python3"
  },
  "language_info": {
   "codemirror_mode": {
    "name": "ipython",
    "version": 3
   },
   "file_extension": ".py",
   "mimetype": "text/x-python",
   "name": "python",
   "nbconvert_exporter": "python",
   "pygments_lexer": "ipython3",
   "version": "3.6.8"
  }
 },
 "nbformat": 4,
 "nbformat_minor": 2
}
